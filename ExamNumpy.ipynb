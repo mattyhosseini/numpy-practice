{
 "cells": [
  {
   "cell_type": "code",
   "execution_count": 2,
   "id": "706758f1-e099-4022-bfb8-c418218a5fec",
   "metadata": {},
   "outputs": [],
   "source": [
    "import numpy as np"
   ]
  },
  {
   "cell_type": "code",
   "execution_count": 3,
   "id": "61e42b06-6e42-4466-8553-1b66cdadb6e1",
   "metadata": {},
   "outputs": [
    {
     "name": "stdout",
     "output_type": "stream",
     "text": [
      "2.1.1\n"
     ]
    }
   ],
   "source": [
    "print(np.__version__)"
   ]
  },
  {
   "cell_type": "markdown",
   "id": "a05f1420-4c41-40c8-90bb-2bb5aba32b74",
   "metadata": {},
   "source": [
    "### 1 | Print the numpy version and the configuration"
   ]
  },
  {
   "cell_type": "code",
   "execution_count": 4,
   "id": "27563501-1236-446d-8023-6bfbf682a96e",
   "metadata": {},
   "outputs": [
    {
     "name": "stdout",
     "output_type": "stream",
     "text": [
      "2.1.1\n"
     ]
    }
   ],
   "source": [
    "print(np.__version__)"
   ]
  },
  {
   "cell_type": "markdown",
   "id": "bd06f6ae-8c13-4e7c-bee6-363864d3448a",
   "metadata": {},
   "source": [
    "### 2 | Create a null vector of size 10"
   ]
  },
  {
   "cell_type": "code",
   "execution_count": 5,
   "id": "7f8dd91b-a031-4aa9-8475-af1439ded6b7",
   "metadata": {},
   "outputs": [
    {
     "name": "stdout",
     "output_type": "stream",
     "text": [
      "[0 0 0 0 0 0 0 0 0 0]\n"
     ]
    }
   ],
   "source": [
    "v = np.zeros(10 , dtype = int)\n",
    "print(v)"
   ]
  },
  {
   "cell_type": "markdown",
   "id": "a0a9d0db-84f0-42d0-bab6-990ffe6c2a8f",
   "metadata": {},
   "source": [
    "### 3| Create a null vector of size 10 but the fifth value which is 1"
   ]
  },
  {
   "cell_type": "code",
   "execution_count": 6,
   "id": "3af5eb4e-8b25-43e1-b773-4cb4a5949a04",
   "metadata": {},
   "outputs": [
    {
     "name": "stdout",
     "output_type": "stream",
     "text": [
      "[0 0 0 0 1 0 0 0 0 0]\n"
     ]
    }
   ],
   "source": [
    "v = np.zeros(10 , dtype = int)\n",
    "v[4] = 1\n",
    "print(v)"
   ]
  },
  {
   "cell_type": "markdown",
   "id": "25d49eec-9921-4c2c-9430-4a8de4c44c7f",
   "metadata": {},
   "source": [
    "### 4 | Create a vector with values ranging from 10 to 49"
   ]
  },
  {
   "cell_type": "code",
   "execution_count": 7,
   "id": "863ff21a-4eae-4a5e-867b-f951ed98e9f5",
   "metadata": {},
   "outputs": [
    {
     "name": "stdout",
     "output_type": "stream",
     "text": [
      "[10 11 12 13 14 15 16 17 18 19 20 21 22 23 24 25 26 27 28 29 30 31 32 33\n",
      " 34 35 36 37 38 39 40 41 42 43 44 45 46 47 48 49]\n"
     ]
    }
   ],
   "source": [
    "v = np.arange(10,50)\n",
    "print(v)"
   ]
  },
  {
   "cell_type": "markdown",
   "id": "363c2e4e-2e83-47b3-ad6e-2f00b4d252b0",
   "metadata": {},
   "source": [
    "### 5 | Reverse a vector (first element becomes last)"
   ]
  },
  {
   "cell_type": "code",
   "execution_count": 8,
   "id": "4d4042ba-1d27-4a5b-a8b8-464d80c44e50",
   "metadata": {},
   "outputs": [
    {
     "name": "stdout",
     "output_type": "stream",
     "text": [
      "[49 48 47 46 45 44 43 42 41 40 39 38 37 36 35 34 33 32 31 30 29 28 27 26\n",
      " 25 24 23 22 21 20 19 18 17 16 15 14 13 12 11 10  9  8  7  6  5  4  3  2\n",
      "  1  0]\n"
     ]
    }
   ],
   "source": [
    "v = np.arange(50)\n",
    "v = v[::-1]\n",
    "print(v)"
   ]
  },
  {
   "cell_type": "markdown",
   "id": "53c6b690-fa52-40e6-a777-61f1a4b44498",
   "metadata": {},
   "source": [
    "### 5 | Create a 3x3 matrix with values ranging from 0 to 8"
   ]
  },
  {
   "cell_type": "code",
   "execution_count": 9,
   "id": "218a8afe-8d89-4e0f-8049-13c4b337d7bb",
   "metadata": {},
   "outputs": [
    {
     "name": "stdout",
     "output_type": "stream",
     "text": [
      "[[0 1 2]\n",
      " [3 4 5]\n",
      " [6 7 8]]\n"
     ]
    }
   ],
   "source": [
    "m =np.arange(9).reshape(3,3)\n",
    "print(m)"
   ]
  },
  {
   "cell_type": "markdown",
   "id": "39cdb697-560e-471b-9a62-c65e43ace66d",
   "metadata": {},
   "source": [
    "### 6 | Find indices of nonzero elements from [1,2,0,0,4,0]\n"
   ]
  },
  {
   "cell_type": "code",
   "execution_count": 10,
   "id": "ab96ac84-b3f2-46cc-9b7f-8a03adf79841",
   "metadata": {},
   "outputs": [
    {
     "name": "stdout",
     "output_type": "stream",
     "text": [
      "(array([0, 1, 4]),)\n"
     ]
    }
   ],
   "source": [
    "v = np.nonzero([1,2,0,0,4,0])\n",
    "print(v)"
   ]
  },
  {
   "cell_type": "markdown",
   "id": "cb8fbad0-77b5-4798-aa08-c0ffbea5fcda",
   "metadata": {},
   "source": [
    "### 7 | Create a 3x3 `identity` matrix"
   ]
  },
  {
   "cell_type": "markdown",
   "id": "dfc371b8-43d8-4842-aaf8-8a7c922282e5",
   "metadata": {},
   "source": [
    "#### ماتریس هویت / Identity Matrix\n",
    "\n",
    "ماتریس هویت یک ماتریس مربعی است که در آن عناصر قطری برابر با ۱ و بقیه عناصر برابر با ۰ هستند، و در ضرب با هر ماتریس دیگری نتیجه همان ماتریس را می‌دهد.\n",
    "\n",
    "An identity matrix is a square matrix in which all the diagonal elements are 1 and all other elements are 0. It leaves other matrices unchanged when multiplied by them.\n"
   ]
  },
  {
   "cell_type": "code",
   "execution_count": 11,
   "id": "74eacafc-3d94-4e2d-8e11-114a8aa5fd92",
   "metadata": {},
   "outputs": [
    {
     "name": "stdout",
     "output_type": "stream",
     "text": [
      "[[1. 0. 0.]\n",
      " [0. 1. 0.]\n",
      " [0. 0. 1.]]\n"
     ]
    }
   ],
   "source": [
    "m = np.identity(3)\n",
    "print(m)"
   ]
  },
  {
   "cell_type": "markdown",
   "id": "c7e7a04f-e14d-4e88-917c-4efcff376de7",
   "metadata": {},
   "source": [
    "### 8 | Create a 3x3x3 array with random values"
   ]
  },
  {
   "cell_type": "code",
   "execution_count": 12,
   "id": "96fbe46d-9183-473f-80d6-c54cd77c4d8f",
   "metadata": {},
   "outputs": [
    {
     "name": "stdout",
     "output_type": "stream",
     "text": [
      "[[[6 2 6]\n",
      "  [2 3 3]\n",
      "  [1 3 4]]\n",
      "\n",
      " [[0 1 3]\n",
      "  [3 5 4]\n",
      "  [8 5 9]]\n",
      "\n",
      " [[1 7 7]\n",
      "  [1 0 1]\n",
      "  [5 6 4]]]\n"
     ]
    }
   ],
   "source": [
    "m = np.random.randint(0,10,size=(3,3,3))\n",
    "print(m)"
   ]
  },
  {
   "cell_type": "code",
   "execution_count": 13,
   "id": "e838d54b-4644-4ce2-a8dd-c37fcfcf97ef",
   "metadata": {},
   "outputs": [
    {
     "name": "stdout",
     "output_type": "stream",
     "text": [
      "[[[0.11672914 0.13134109 0.23733699]\n",
      "  [0.13491506 0.64149537 0.38668121]\n",
      "  [0.18839423 0.46479022 0.43092837]]\n",
      "\n",
      " [[0.07628562 0.49011083 0.73879574]\n",
      "  [0.02806956 0.32132712 0.51580519]\n",
      "  [0.38768623 0.44992767 0.67265891]]\n",
      "\n",
      " [[0.49585376 0.87186637 0.37941114]\n",
      "  [0.18274212 0.28232154 0.32885934]\n",
      "  [0.14259158 0.43063617 0.05987025]]]\n"
     ]
    }
   ],
   "source": [
    "m = np.random.random(size=(3,3,3))\n",
    "print(m)"
   ]
  },
  {
   "cell_type": "markdown",
   "id": "d6fe241b-5412-4556-922d-5de699672bd8",
   "metadata": {},
   "source": [
    "### 9 | Create a 10x10 array with random values and find the minimum and maximum values\n"
   ]
  },
  {
   "cell_type": "code",
   "execution_count": 14,
   "id": "caf4278e-882a-4811-b50b-c1b94a648922",
   "metadata": {},
   "outputs": [
    {
     "name": "stdout",
     "output_type": "stream",
     "text": [
      "0.9811541299004785 0.023099235547332397\n"
     ]
    }
   ],
   "source": [
    "m = np.random.random(size=(10,10))\n",
    "max_value , min_value = np.max(m) , np.min(m)\n",
    "print(max_value,min_value)"
   ]
  },
  {
   "cell_type": "code",
   "execution_count": 15,
   "id": "dc1eb467-43ab-46e5-896d-aac1aa08c188",
   "metadata": {},
   "outputs": [
    {
     "name": "stdout",
     "output_type": "stream",
     "text": [
      "0.9987623482743804 0.016856190587012487\n"
     ]
    }
   ],
   "source": [
    "m = np.random.random(size=(10,10))\n",
    "max_value , min_value = m.max(),m.min()\n",
    "print(max_value,min_value)"
   ]
  },
  {
   "cell_type": "code",
   "execution_count": 16,
   "id": "a9c5d65a-ec21-4c34-bf97-2c71ad63170b",
   "metadata": {},
   "outputs": [
    {
     "name": "stdout",
     "output_type": "stream",
     "text": [
      "[[0 3 3 1 1 4 4 0 0 3]\n",
      " [4 4 3 4 0 2 4 2 2 0]\n",
      " [3 4 2 3 2 4 3 0 4 0]\n",
      " [1 4 3 1 0 4 2 2 1 4]\n",
      " [1 0 3 0 3 4 2 4 4 0]\n",
      " [1 1 3 3 1 1 3 3 3 1]\n",
      " [3 4 3 3 1 1 2 3 1 0]\n",
      " [4 2 1 0 2 1 1 2 2 0]\n",
      " [4 4 3 4 3 0 1 3 4 2]\n",
      " [1 3 4 2 3 3 0 1 4 2]]\n"
     ]
    }
   ],
   "source": [
    "m = np.random.randint(0,5,size=(10,10))\n",
    "print(m)"
   ]
  },
  {
   "cell_type": "markdown",
   "id": "b317089b-819a-43ad-b5e7-16d612530a9f",
   "metadata": {},
   "source": [
    "### 10 | Create a random vector of size 30 and find the mean value"
   ]
  },
  {
   "cell_type": "code",
   "execution_count": 17,
   "id": "7a8c6337-2850-48f1-8596-d792583a1e04",
   "metadata": {},
   "outputs": [
    {
     "name": "stdout",
     "output_type": "stream",
     "text": [
      "4.6\n"
     ]
    }
   ],
   "source": [
    "v = np.random.randint(0,10 , size=(30))\n",
    "v = v.mean()\n",
    "print(v)"
   ]
  },
  {
   "cell_type": "markdown",
   "id": "a0956162-8fce-4161-afb0-a60e044d2b28",
   "metadata": {},
   "source": [
    "### 11 | Create a 2d array with 1 on the border and 0 inside"
   ]
  },
  {
   "cell_type": "code",
   "execution_count": 18,
   "id": "f9fe6533-cc5f-48bc-a877-7e2120fc2362",
   "metadata": {},
   "outputs": [
    {
     "name": "stdout",
     "output_type": "stream",
     "text": [
      "[[1 1 1 1 1 1 1 1 1 1]\n",
      " [1 0 0 0 0 0 0 0 0 1]\n",
      " [1 0 0 0 0 0 0 0 0 1]\n",
      " [1 0 0 0 0 0 0 0 0 1]\n",
      " [1 0 0 0 0 0 0 0 0 1]\n",
      " [1 0 0 0 0 0 0 0 0 1]\n",
      " [1 0 0 0 0 0 0 0 0 1]\n",
      " [1 0 0 0 0 0 0 0 0 1]\n",
      " [1 0 0 0 0 0 0 0 0 1]\n",
      " [1 1 1 1 1 1 1 1 1 1]]\n"
     ]
    }
   ],
   "source": [
    "m = np.ones((10,10),dtype=int)\n",
    "m[1:-1,1:-1] = 0\n",
    "print(m)"
   ]
  },
  {
   "cell_type": "markdown",
   "id": "b4a9e311-66b4-4ff2-8133-930b9c350c26",
   "metadata": {},
   "source": [
    "### 12 | What is the result of the following expression?"
   ]
  },
  {
   "cell_type": "code",
   "execution_count": 19,
   "id": "82e90e23-20b8-4a10-8bc6-f2dc95eb9de2",
   "metadata": {},
   "outputs": [
    {
     "name": "stdout",
     "output_type": "stream",
     "text": [
      "[[0 0 0 0 0]\n",
      " [1 0 0 0 0]\n",
      " [0 2 0 0 0]\n",
      " [0 0 3 0 0]\n",
      " [0 0 0 4 0]]\n"
     ]
    }
   ],
   "source": [
    "m = np.diag(1 + np.arange(4), k=-1)\n",
    "print(m)"
   ]
  },
  {
   "cell_type": "markdown",
   "id": "ef96d66e-eed9-495f-95b2-89599af6bc0b",
   "metadata": {},
   "source": [
    "### 13 | Create a 8x8 matrix and fill it with a checkerboard pattern"
   ]
  },
  {
   "cell_type": "code",
   "execution_count": 20,
   "id": "c5fc7b6a-3390-4506-842f-d0e2d7e25fb8",
   "metadata": {},
   "outputs": [
    {
     "name": "stdout",
     "output_type": "stream",
     "text": [
      "[[0 1 0 1 0 1 0 1]\n",
      " [1 0 1 0 1 0 1 0]\n",
      " [0 1 0 1 0 1 0 1]\n",
      " [1 0 1 0 1 0 1 0]\n",
      " [0 1 0 1 0 1 0 1]\n",
      " [1 0 1 0 1 0 1 0]\n",
      " [0 1 0 1 0 1 0 1]\n",
      " [1 0 1 0 1 0 1 0]]\n"
     ]
    }
   ],
   "source": [
    "m = np.zeros((8,8),dtype=int)\n",
    "m[1::2,::2]=1 \n",
    "m[::2,1::2]=1\n",
    "print(m)"
   ]
  },
  {
   "cell_type": "markdown",
   "id": "46a5a95b-93ca-4182-868c-fff95fe996ac",
   "metadata": {},
   "source": [
    "### 14 | Create a checkerboard 8x8 matrix using the tile function"
   ]
  },
  {
   "cell_type": "code",
   "execution_count": 21,
   "id": "69a4d001-6476-4694-b7cc-75d15ebd3f7e",
   "metadata": {},
   "outputs": [
    {
     "name": "stdout",
     "output_type": "stream",
     "text": [
      "[[0 1 0 1 0 1 0 1]\n",
      " [1 0 1 0 1 0 1 0]\n",
      " [0 1 0 1 0 1 0 1]\n",
      " [1 0 1 0 1 0 1 0]\n",
      " [0 1 0 1 0 1 0 1]\n",
      " [1 0 1 0 1 0 1 0]\n",
      " [0 1 0 1 0 1 0 1]\n",
      " [1 0 1 0 1 0 1 0]]\n"
     ]
    }
   ],
   "source": [
    "m = np.tile(np.array([[0,1],[1,0]]),(4,4))\n",
    "print(m)"
   ]
  },
  {
   "cell_type": "markdown",
   "id": "b4398b17-e725-4bad-9664-4924d689b53d",
   "metadata": {},
   "source": [
    "### 15 | Normalize a 5x5 random matrix"
   ]
  },
  {
   "cell_type": "code",
   "execution_count": 22,
   "id": "56923d87-749b-4e51-af21-09599e5c8ad2",
   "metadata": {},
   "outputs": [
    {
     "name": "stdout",
     "output_type": "stream",
     "text": [
      "[[0.85722544 0.63003519 0.02694206 0.45103215 0.28414636]\n",
      " [0.28624228 0.62970014 0.45778453 0.64232786 0.99337104]\n",
      " [1.         0.46425905 0.64178837 0.9655573  0.05706563]\n",
      " [0.10784099 0.42867142 0.         0.32178929 0.45015252]\n",
      " [0.10763598 0.04370444 0.56350263 0.69911747 0.80755543]]\n"
     ]
    }
   ],
   "source": [
    "m = np.random.random((5,5))\n",
    "minValue,maxValue = m.min(),m.max()\n",
    "normalize = (m-minValue)/(maxValue-minValue)\n",
    "print(normalize)"
   ]
  },
  {
   "cell_type": "markdown",
   "id": "f1b9c93c-a94c-4476-9e93-f45a9e33f795",
   "metadata": {},
   "source": [
    "### 16 | Create a custom dtype that describes a color as four unisgned bytes (RGBA)"
   ]
  },
  {
   "cell_type": "code",
   "execution_count": 23,
   "id": "af19d0fe-0bdd-426b-9536-5b64cde43b58",
   "metadata": {},
   "outputs": [],
   "source": [
    "color = np.dtype([(\"r\", np.ubyte, 1),\n",
    "(\"g\", np.ubyte, 1),\n",
    "(\"b\", np.ubyte, 1),\n",
    "(\"a\", np.ubyte, 1)])"
   ]
  },
  {
   "cell_type": "markdown",
   "id": "9863e04c-0d6d-4ea9-a10c-bd3040b81c5f",
   "metadata": {},
   "source": [
    "### 17 | Multiply a 5x3 matrix by a 3x2 matrix (real matrix product)"
   ]
  },
  {
   "cell_type": "code",
   "execution_count": 24,
   "id": "79a3a15f-2706-4143-8dae-c3343636c015",
   "metadata": {},
   "outputs": [
    {
     "name": "stdout",
     "output_type": "stream",
     "text": [
      "[[3 3]\n",
      " [3 3]\n",
      " [3 3]\n",
      " [3 3]\n",
      " [3 3]]\n"
     ]
    }
   ],
   "source": [
    "m = np.dot(np.ones((5,3),dtype=int),np.ones((3,2),dtype=int))\n",
    "print(m)"
   ]
  },
  {
   "cell_type": "code",
   "execution_count": 25,
   "id": "dae81c6e-7cac-46de-9a3f-9bf42e46899f",
   "metadata": {},
   "outputs": [
    {
     "data": {
      "text/plain": [
       "array([[1, 1, 1],\n",
       "       [1, 1, 1],\n",
       "       [1, 1, 1],\n",
       "       [1, 1, 1],\n",
       "       [1, 1, 1]])"
      ]
     },
     "execution_count": 25,
     "metadata": {},
     "output_type": "execute_result"
    }
   ],
   "source": [
    "np.ones((5,3),dtype=int)"
   ]
  },
  {
   "cell_type": "markdown",
   "id": "794dc764-b225-41ce-b81c-8fc6caeec931",
   "metadata": {},
   "source": [
    "### 18 | Given a 1D array, negate all elements which are between 3 and 8, in place"
   ]
  },
  {
   "cell_type": "code",
   "execution_count": 26,
   "id": "8606c3f3-a16d-46ec-a258-a1128a3966ac",
   "metadata": {},
   "outputs": [
    {
     "name": "stdout",
     "output_type": "stream",
     "text": [
      "[ 0  1  2  3 -4 -5 -6 -7 -8  9 10]\n"
     ]
    }
   ],
   "source": [
    "m = np.arange(11)\n",
    "m[(3<m)&(m<=8)] *= -1\n",
    "print(m)"
   ]
  },
  {
   "cell_type": "markdown",
   "id": "b866a67c-3750-4770-a031-3f090529c696",
   "metadata": {},
   "source": [
    "### 19 | Create a 5x5 matrix with row values ranging from 0 to 4"
   ]
  },
  {
   "cell_type": "code",
   "execution_count": 27,
   "id": "4bcda634-f994-4937-a928-8b1548951dc1",
   "metadata": {},
   "outputs": [
    {
     "name": "stdout",
     "output_type": "stream",
     "text": [
      "[[0 1 2 3 4]\n",
      " [0 1 2 3 4]\n",
      " [0 1 2 3 4]\n",
      " [0 1 2 3 4]\n",
      " [0 1 2 3 4]]\n"
     ]
    }
   ],
   "source": [
    "Z = np.zeros((5,5),dtype=int)\n",
    "Z += np.arange(5)\n",
    "print(Z)"
   ]
  },
  {
   "cell_type": "markdown",
   "id": "5ee1ec41-21e4-41db-84c4-bba794078a37",
   "metadata": {},
   "source": [
    "### 20 | Consider a generator function that generates 10 integers and use it to build an array"
   ]
  },
  {
   "cell_type": "code",
   "execution_count": 28,
   "id": "d922c543-118e-44d2-bf78-5ef10bb1cb6f",
   "metadata": {},
   "outputs": [
    {
     "name": "stdout",
     "output_type": "stream",
     "text": [
      "[0 1 2 3 4 5 6 7 8 9]\n"
     ]
    }
   ],
   "source": [
    "def generat ():\n",
    "    for x in range(10):\n",
    "        yield x\n",
    "v = np.fromiter(generat(),dtype=int,count=-1)\n",
    "print(v)"
   ]
  },
  {
   "cell_type": "markdown",
   "id": "de81d98e-04ae-4a66-8b3a-2cdfa75b6334",
   "metadata": {},
   "source": [
    "### 21 | Create a vector of size 10 with values ranging from 0 to 1, both excluded"
   ]
  },
  {
   "cell_type": "code",
   "execution_count": 29,
   "id": "87d23b7a-820b-49f2-b111-375d11ebc2fa",
   "metadata": {},
   "outputs": [
    {
     "name": "stdout",
     "output_type": "stream",
     "text": [
      "[0.1 0.2 0.3 0.4 0.5 0.6 0.7 0.8 0.9]\n"
     ]
    }
   ],
   "source": [
    "v = np.linspace(0,1,10 , endpoint=False)[1:]\n",
    "print(v)"
   ]
  },
  {
   "cell_type": "markdown",
   "id": "0323da62-40c6-42d1-a97b-5c539372c5e6",
   "metadata": {},
   "source": [
    "### 21 | Create a random vector of size 10 and sort it"
   ]
  },
  {
   "cell_type": "code",
   "execution_count": 30,
   "id": "cc1598ba-9e6f-4fe3-ad48-6c75f5c7144a",
   "metadata": {},
   "outputs": [
    {
     "name": "stdout",
     "output_type": "stream",
     "text": [
      "[0 1 2 3 4 5 6 7 8 9]\n"
     ]
    }
   ],
   "source": [
    "v = np.random.permutation(10)\n",
    "v = np.sort(v)\n",
    "print(v)"
   ]
  },
  {
   "cell_type": "code",
   "execution_count": 31,
   "id": "bea99e4a-370e-450d-aa77-2a14489e8966",
   "metadata": {},
   "outputs": [
    {
     "name": "stdout",
     "output_type": "stream",
     "text": [
      "[9 8 7 6 5 4 3 2 1 0]\n"
     ]
    }
   ],
   "source": [
    "v = np.random.permutation(10)\n",
    "v = np.sort(v)[::-1]\n",
    "print(v)"
   ]
  },
  {
   "cell_type": "markdown",
   "id": "e24f1f31-5249-4830-8dc2-21015d9a60e2",
   "metadata": {},
   "source": [
    "### 22 | Create a 30-element array of random integers in the range [1, 100]. Then, sum it using a method faster than np.sum() and print the result."
   ]
  },
  {
   "cell_type": "code",
   "execution_count": 32,
   "id": "d642cac1-09e9-4398-9b87-b827262f9ea0",
   "metadata": {},
   "outputs": [
    {
     "name": "stdout",
     "output_type": "stream",
     "text": [
      "1258\n"
     ]
    }
   ],
   "source": [
    "v = np.random.randint(0,100,size=30)\n",
    "v = np.add.reduce(v)\n",
    "print(v)"
   ]
  },
  {
   "cell_type": "markdown",
   "id": "c527a1a8-76a5-489d-903a-b50954166158",
   "metadata": {},
   "source": [
    "### 23 | Consider two random array A anb B, check if they are equal"
   ]
  },
  {
   "cell_type": "code",
   "execution_count": 33,
   "id": "a6cbe25c-24ab-4e26-bf87-22d9ba745c17",
   "metadata": {},
   "outputs": [
    {
     "name": "stdout",
     "output_type": "stream",
     "text": [
      "False\n"
     ]
    }
   ],
   "source": [
    "a = np.random.randint(0,20,size=30)\n",
    "b = np.random.randint(0,20,size=30)\n",
    "print(np.array_equal(a,b))"
   ]
  },
  {
   "cell_type": "markdown",
   "id": "d7ca41c4-3242-4c63-b001-9cbdbc1ac0e6",
   "metadata": {},
   "source": [
    "### 24 | Consider two random arrays, A and B, both with floating-point values. Check if they are equal"
   ]
  },
  {
   "cell_type": "code",
   "execution_count": 34,
   "id": "a1cad23b-8eda-4da8-a39d-22037b0da912",
   "metadata": {},
   "outputs": [
    {
     "name": "stdout",
     "output_type": "stream",
     "text": [
      "False\n"
     ]
    }
   ],
   "source": [
    "a = np.random.uniform(0,10,size=20)\n",
    "b = np.random.uniform(0,10,size=20)\n",
    "print(np.allclose(a,b))"
   ]
  },
  {
   "cell_type": "markdown",
   "id": "fd35199d-7f72-4fce-a641-0a6c022fe12d",
   "metadata": {},
   "source": [
    "### 25 | Make an array immutable (readonly)"
   ]
  },
  {
   "cell_type": "code",
   "execution_count": 35,
   "id": "e28c5e24-5f5e-4afd-b002-ff3fb1ffe233",
   "metadata": {},
   "outputs": [],
   "source": [
    "v = np.arange(0,20)\n",
    "v.flags.writeable = False\n",
    "# v[0]=1"
   ]
  },
  {
   "cell_type": "markdown",
   "id": "be3d236a-1000-407f-9559-1622b673737c",
   "metadata": {},
   "source": [
    "### 26 | Create random vector of size 10 and replace the maximum value by 0"
   ]
  },
  {
   "cell_type": "code",
   "execution_count": 36,
   "id": "b797178d-60af-4853-9b82-755f4ff92a16",
   "metadata": {},
   "outputs": [
    {
     "name": "stdout",
     "output_type": "stream",
     "text": [
      "[38  7 29 19 11 20 40 28  0 16]\n"
     ]
    }
   ],
   "source": [
    "v = np.random.randint(0,50,size=10)\n",
    "v[v.argmax()] = 0\n",
    "print(v)"
   ]
  },
  {
   "cell_type": "markdown",
   "id": "fb51497f-cb8c-408f-9b17-846cdd1bc8c7",
   "metadata": {},
   "source": [
    "### 27 | How to find the closest value (to a given scalar) in an array?"
   ]
  },
  {
   "cell_type": "code",
   "execution_count": 37,
   "id": "5dc9b7aa-68a5-4cdc-ba6f-a3f57e8dde7d",
   "metadata": {},
   "outputs": [
    {
     "name": "stdout",
     "output_type": "stream",
     "text": [
      "7\n"
     ]
    }
   ],
   "source": [
    "v = np.array([1, 4, 7, 9, 13, 20])\n",
    "c = 6\n",
    "z = v[np.abs(v-c).argmin()]\n",
    "print(z)"
   ]
  },
  {
   "cell_type": "markdown",
   "id": "b21387db-cf4d-4455-b9ab-a4c58868d6d1",
   "metadata": {},
   "source": [
    "### 28 | How to convert a float (32 bits) array into an integer (32 bits) in place?"
   ]
  },
  {
   "cell_type": "code",
   "execution_count": 38,
   "id": "00a14c12-95bb-450f-af95-0ee2fbc1266d",
   "metadata": {},
   "outputs": [],
   "source": [
    "v = np.arange(10, dtype=np.int32)\n",
    "v = v.astype(np.float32, copy=False)"
   ]
  },
  {
   "cell_type": "markdown",
   "id": "e08b270d-fc0c-49f0-9d87-32053f20fecb",
   "metadata": {},
   "source": [
    "### 29 | Create a 5x5 2D array of random numbers between 0 and 1. Then, calculate the mean of each row and store it in a new array."
   ]
  },
  {
   "cell_type": "code",
   "execution_count": 39,
   "id": "bad56460-070d-4adb-8cba-d064b58a0e85",
   "metadata": {},
   "outputs": [
    {
     "name": "stdout",
     "output_type": "stream",
     "text": [
      "[0.49289739 0.42813496 0.57226555 0.26376578 0.68686961]\n"
     ]
    }
   ],
   "source": [
    "v = np.random.rand(5, 5)\n",
    "row_means = np.mean(v, axis=1)\n",
    "print(row_means)"
   ]
  },
  {
   "cell_type": "markdown",
   "id": "5d581025-7931-429f-a4ea-46692ef5752c",
   "metadata": {},
   "source": [
    "### 30 | Create a 1D array of random integers with size 15. Then, change all values greater than 5 to zero."
   ]
  },
  {
   "cell_type": "code",
   "execution_count": 40,
   "id": "15436131-defe-477c-867d-23cac6e96616",
   "metadata": {},
   "outputs": [
    {
     "name": "stdout",
     "output_type": "stream",
     "text": [
      "[0 0 1 0 0 0 0 0 0 0 2 0 2 0 0]\n"
     ]
    }
   ],
   "source": [
    "v = np.random.randint(0,20,size=15)\n",
    "v[v > 5] = 0\n",
    "print(v)\n"
   ]
  },
  {
   "cell_type": "markdown",
   "id": "d14448c9-2e9f-4fe3-b86b-0202867ca44b",
   "metadata": {},
   "source": [
    "### 31 | Subtract the mean of each row of a matrix"
   ]
  },
  {
   "cell_type": "code",
   "execution_count": 41,
   "id": "b7631305-8f82-4f82-9e02-87fb5bab1361",
   "metadata": {},
   "outputs": [
    {
     "name": "stdout",
     "output_type": "stream",
     "text": [
      "[[-0.30945031 -0.34215499  0.59171096  0.1466003  -0.02403273 -0.30564345\n",
      "  -0.0234575   0.29819585  0.32143056 -0.3531987 ]\n",
      " [-0.35237247 -0.17541918  0.19418539  0.16876545  0.00352662  0.26531257\n",
      "  -0.37443368  0.20745166  0.0741968  -0.01121316]\n",
      " [ 0.385744   -0.04687817 -0.36794383  0.42420458  0.0892473   0.29709691\n",
      "  -0.30385617 -0.37266119 -0.27717343  0.17222001]\n",
      " [-0.23297379  0.52648566 -0.02309691 -0.35752704 -0.06833909  0.37883827\n",
      "  -0.1128747  -0.39905513 -0.11622304  0.40476576]\n",
      " [ 0.26020446  0.26480303 -0.22633324 -0.11683503 -0.17972154  0.5116115\n",
      "  -0.29149631  0.45954918 -0.4035012  -0.27828085]]\n"
     ]
    }
   ],
   "source": [
    "v = np.random.rand(5, 10)\n",
    "y = v - v.mean(axis=1, keepdims=True)\n",
    "print(y)"
   ]
  },
  {
   "cell_type": "markdown",
   "id": "2940d57b-eeff-4044-8815-42cfa8e9ea0a",
   "metadata": {},
   "source": [
    "### 32 | How to I sort an array by the nth column?"
   ]
  },
  {
   "cell_type": "code",
   "execution_count": 42,
   "id": "6f5753d2-a02b-499f-aaa5-05a440bc4ac4",
   "metadata": {},
   "outputs": [
    {
     "name": "stdout",
     "output_type": "stream",
     "text": [
      "[ 5 13 23]\n"
     ]
    }
   ],
   "source": [
    "m = np.random.randint(0,30,size=(3,3))\n",
    "print(np.sort(m[:,1]))"
   ]
  },
  {
   "cell_type": "markdown",
   "id": "735ca3c7-767a-4fba-9674-1c3b395b4e73",
   "metadata": {},
   "source": [
    "### 33 | How to tell if a given 2D array has null columns?"
   ]
  },
  {
   "cell_type": "code",
   "execution_count": 43,
   "id": "76c562e5-ccf1-40f0-8095-665047473e12",
   "metadata": {},
   "outputs": [
    {
     "name": "stdout",
     "output_type": "stream",
     "text": [
      "False\n"
     ]
    }
   ],
   "source": [
    "v = np.random.randint(0,3,(3,10))\n",
    "print((~v.any(axis=0)).any())"
   ]
  },
  {
   "cell_type": "markdown",
   "id": "026220b0-4529-43b2-85a5-fb5eae16a4e7",
   "metadata": {},
   "source": [
    "### 34 | How to swap two rows of an array?"
   ]
  },
  {
   "cell_type": "code",
   "execution_count": 44,
   "id": "341d47d2-4fed-4b06-aa5d-632125805e54",
   "metadata": {},
   "outputs": [
    {
     "name": "stdout",
     "output_type": "stream",
     "text": [
      "[[ 5  6  7  8  9]\n",
      " [ 0  1  2  3  4]\n",
      " [10 11 12 13 14]\n",
      " [15 16 17 18 19]\n",
      " [20 21 22 23 24]]\n"
     ]
    }
   ],
   "source": [
    "v = np.arange(25).reshape(5,5)\n",
    "v[[0,1]]=v[[1,0]]\n",
    "print(v)"
   ]
  },
  {
   "cell_type": "markdown",
   "id": "0d230ffb-c251-44f7-9a40-744c66b4b0fa",
   "metadata": {},
   "source": [
    "### 35 | Create a 1D array with values [0, 1, 2, 3, 4, 5, 6, 7, 8, 9] and select elements from index 3 to 6"
   ]
  },
  {
   "cell_type": "code",
   "execution_count": 45,
   "id": "98f541c2-f30f-435a-8f82-ecb3e28b5a93",
   "metadata": {},
   "outputs": [
    {
     "name": "stdout",
     "output_type": "stream",
     "text": [
      "[3 4 5 6]\n"
     ]
    }
   ],
   "source": [
    "v = np.arange(10)\n",
    "s = v[3:7]\n",
    "print(s)"
   ]
  },
  {
   "cell_type": "markdown",
   "id": "dc9a6d53-4d70-4160-a37d-8677edd69e3e",
   "metadata": {},
   "source": [
    "### 36 |  Reverse the array [10, 20, 30, 40, 50] using slicing"
   ]
  },
  {
   "cell_type": "code",
   "execution_count": 46,
   "id": "66d7d3b8-872a-4f92-97a1-bcb75b8cb0c4",
   "metadata": {},
   "outputs": [
    {
     "name": "stdout",
     "output_type": "stream",
     "text": [
      "[50 40 30 20 10]\n"
     ]
    }
   ],
   "source": [
    "v = np.array([10,20,30,40,50])\n",
    "print(v[::-1])"
   ]
  },
  {
   "cell_type": "markdown",
   "id": "bfef7e0c-c3c8-4f11-a065-642c42188a68",
   "metadata": {},
   "source": [
    "### 37   Create a 3×4 array and extract columns 2 and 3 as a submatrix using slicing"
   ]
  },
  {
   "cell_type": "code",
   "execution_count": 47,
   "id": "b33bd770-2b32-4cb0-9abf-2172da9433e6",
   "metadata": {},
   "outputs": [
    {
     "name": "stdout",
     "output_type": "stream",
     "text": [
      "[[ 6  8]\n",
      " [ 8  4]\n",
      " [11  7]]\n"
     ]
    }
   ],
   "source": [
    "m = np.random.randint(0,20,size=(3,4))\n",
    "m = m[:,2:4]\n",
    "print(m)"
   ]
  },
  {
   "cell_type": "markdown",
   "id": "ead6142b-8549-4329-93dd-0bd3d04a45f3",
   "metadata": {},
   "source": [
    "### 38 | From a 4×4 array, select rows with odd indices"
   ]
  },
  {
   "cell_type": "code",
   "execution_count": 48,
   "id": "5bf81939-5fd2-4a26-85a1-28a30d055477",
   "metadata": {},
   "outputs": [
    {
     "name": "stdout",
     "output_type": "stream",
     "text": [
      "[[13  1  8  0]\n",
      " [ 6 16 15  2]]\n"
     ]
    }
   ],
   "source": [
    "m = np.random.randint(0,20,size=(4,4))\n",
    "print(m[1::2,:])"
   ]
  },
  {
   "cell_type": "markdown",
   "id": "7fb6d0a5-00e5-4a05-b5a5-a9f60380a64f",
   "metadata": {},
   "source": [
    "### 39 | In a 5×5 2D array, extract the submatrix that includes rows 1 to 3 and columns 2 to 4"
   ]
  },
  {
   "cell_type": "code",
   "execution_count": 49,
   "id": "f4f94967-1097-4e80-a1b4-8d849be9f281",
   "metadata": {},
   "outputs": [
    {
     "name": "stdout",
     "output_type": "stream",
     "text": [
      "[[[14  5 14]\n",
      "  [18 19 23]\n",
      "  [ 4 27 22]]\n",
      "\n",
      " [[ 3 27 13]\n",
      "  [ 9  5 23]\n",
      "  [10  9 23]]]\n"
     ]
    }
   ],
   "source": [
    "m = np.random.randint(0,30,size=(2,5,5))\n",
    "print(m[:,1:4,2:5])\n"
   ]
  },
  {
   "cell_type": "markdown",
   "id": "5bb88ee4-e23f-436e-a211-dd77c40c78a5",
   "metadata": {},
   "source": [
    "### 40 | Create a 6×6 array and extract the upper triangle elements (above the main diagonal) as a 1D array"
   ]
  },
  {
   "cell_type": "code",
   "execution_count": 50,
   "id": "2f103af3-ea83-4a4d-98ef-bd553f1c6f72",
   "metadata": {},
   "outputs": [
    {
     "name": "stdout",
     "output_type": "stream",
     "text": [
      "[12  1  9 19  5  0 11  6 13  7  0 18 17 13  8]\n"
     ]
    }
   ],
   "source": [
    "m = np.random.randint(0,20,size=(6,6))\n",
    "print(m[np.triu_indices(6,k=1)])"
   ]
  },
  {
   "cell_type": "markdown",
   "id": "554bfb04-3ac0-46f6-9023-4b5b725a04f7",
   "metadata": {},
   "source": [
    "### 41 | Create a 1D NumPy array with numbers from 5 to 15 and print its data type (dtype).\n",
    "\n"
   ]
  },
  {
   "cell_type": "code",
   "execution_count": 51,
   "id": "913234df-f2e2-4a63-bca9-359cd7017e24",
   "metadata": {},
   "outputs": [
    {
     "data": {
      "text/plain": [
       "dtype('int64')"
      ]
     },
     "execution_count": 51,
     "metadata": {},
     "output_type": "execute_result"
    }
   ],
   "source": [
    "v = np.array([5,6,7,8,9,10,11,12,13,14,15])\n",
    "v.dtype"
   ]
  },
  {
   "cell_type": "markdown",
   "id": "fde6021f-5715-488b-aa6f-17579665f825",
   "metadata": {},
   "source": [
    "### 41 | Create a 2D NumPy array of shape 2x4 with any numbers (e.g., numbers from 1 to 8) and print it"
   ]
  },
  {
   "cell_type": "code",
   "execution_count": 52,
   "id": "b04db1ac-cde1-4016-9c88-fa7a5d928d6e",
   "metadata": {},
   "outputs": [
    {
     "name": "stdout",
     "output_type": "stream",
     "text": [
      "[[3 6 6 1]\n",
      " [4 6 2 1]]\n"
     ]
    }
   ],
   "source": [
    "m = np.random.randint(1,9,size=(2,4))\n",
    "print(m)"
   ]
  },
  {
   "cell_type": "code",
   "execution_count": 53,
   "id": "53d47733-e05d-478c-94b5-333b17ce40cb",
   "metadata": {},
   "outputs": [
    {
     "name": "stdout",
     "output_type": "stream",
     "text": [
      "[[1 2 3 4]\n",
      " [5 6 7 8]]\n"
     ]
    }
   ],
   "source": [
    "m = np.arange(1,9).reshape(2,4)\n",
    "print(m)"
   ]
  },
  {
   "cell_type": "markdown",
   "id": "20cf0bc1-f61f-4d55-9e99-7c03e98d6d52",
   "metadata": {},
   "source": [
    "#### 42 | Create a float64 NumPy array with values [1.5, 2.5, 3.5], then add it to an int32 array [1, 2, 3] and observe the output.\n",
    "\n"
   ]
  },
  {
   "cell_type": "code",
   "execution_count": 54,
   "id": "0789ff29-f8df-4355-a9e2-fc2d92705df4",
   "metadata": {},
   "outputs": [
    {
     "name": "stdout",
     "output_type": "stream",
     "text": [
      "[2.5 4.5 6.5]\n"
     ]
    }
   ],
   "source": [
    "m = np.array([1.5, 2.5, 3.5],dtype=np.float64)\n",
    "v = np.array( [1, 2, 3],dtype=np.int32)\n",
    "sum = v + m \n",
    "print(sum)"
   ]
  },
  {
   "cell_type": "markdown",
   "id": "5c3a28f0-35d6-4e1b-8c40-4f0623e58f69",
   "metadata": {},
   "source": [
    "#### 43 | Create a 3D NumPy array of shape (2, 3, 4) with values from 0 to 23.Then, print the element at: second block, third row, second column.\n",
    "\n"
   ]
  },
  {
   "cell_type": "code",
   "execution_count": 55,
   "id": "e779f88d-6a7b-485d-b488-bf8facd70c19",
   "metadata": {},
   "outputs": [
    {
     "name": "stdout",
     "output_type": "stream",
     "text": [
      "22\n"
     ]
    }
   ],
   "source": [
    "t = np.arange(1,25).reshape(2,3,4)\n",
    "print(t[1,2,1])"
   ]
  },
  {
   "cell_type": "markdown",
   "id": "4c4ba48f-95a4-42ec-998b-2669229f144b",
   "metadata": {},
   "source": [
    "### 44 | Print the first column of every row in each block"
   ]
  },
  {
   "cell_type": "code",
   "execution_count": 56,
   "id": "d87deb0b-c046-4711-bf90-632fc12332b2",
   "metadata": {},
   "outputs": [
    {
     "name": "stdout",
     "output_type": "stream",
     "text": [
      "[[ 1  5  9]\n",
      " [13 17 21]]\n"
     ]
    }
   ],
   "source": [
    "print(t[:,:,0])"
   ]
  },
  {
   "cell_type": "markdown",
   "id": "fc2717a1-5c76-4ded-8d2d-e35c73c7b534",
   "metadata": {},
   "source": [
    "### 45 | Print the second column of every row in each block, preserving the third dimension"
   ]
  },
  {
   "cell_type": "code",
   "execution_count": 57,
   "id": "2ff99b55-fc7c-44cf-90ba-b74bed43481c",
   "metadata": {},
   "outputs": [
    {
     "name": "stdout",
     "output_type": "stream",
     "text": [
      "[[[ 1]\n",
      "  [ 5]\n",
      "  [ 9]]\n",
      "\n",
      " [[13]\n",
      "  [17]\n",
      "  [21]]]\n"
     ]
    }
   ],
   "source": [
    "print(t[:,:,0:1])"
   ]
  },
  {
   "cell_type": "markdown",
   "id": "63fa1e55-7576-450e-b798-c047d922c67c",
   "metadata": {},
   "source": [
    "### 46 | Print the last row of each block"
   ]
  },
  {
   "cell_type": "code",
   "execution_count": 58,
   "id": "65f73877-c44f-45c8-8849-e8706af01475",
   "metadata": {},
   "outputs": [
    {
     "name": "stdout",
     "output_type": "stream",
     "text": [
      "[[ 9 10 11 12]\n",
      " [21 22 23 24]]\n"
     ]
    }
   ],
   "source": [
    "print(t[:,-1,:])"
   ]
  },
  {
   "cell_type": "markdown",
   "id": "127dda52-ab31-47a6-a9a6-98656dbcb47b",
   "metadata": {},
   "source": [
    "### 47 | Print the last row of each block while preserving the second dimensio"
   ]
  },
  {
   "cell_type": "code",
   "execution_count": 59,
   "id": "df4f4129-9e4e-49e3-a3cb-7b124b91337a",
   "metadata": {},
   "outputs": [
    {
     "name": "stdout",
     "output_type": "stream",
     "text": [
      "[[[ 9 10 11 12]]\n",
      "\n",
      " [[21 22 23 24]]]\n"
     ]
    }
   ],
   "source": [
    "print(t[:,-1:,:])"
   ]
  },
  {
   "cell_type": "markdown",
   "id": "2183ce00-ce17-415a-89d6-68425beae96d",
   "metadata": {},
   "source": [
    "### 48 | Print the last two columns of each row in each block"
   ]
  },
  {
   "cell_type": "code",
   "execution_count": 60,
   "id": "7fb356a0-1f4b-4521-99b3-e14229231799",
   "metadata": {},
   "outputs": [
    {
     "name": "stdout",
     "output_type": "stream",
     "text": [
      "[[[ 3  4]\n",
      "  [ 7  8]\n",
      "  [11 12]]\n",
      "\n",
      " [[15 16]\n",
      "  [19 20]\n",
      "  [23 24]]]\n"
     ]
    }
   ],
   "source": [
    "print(t[:,:,2:])"
   ]
  },
  {
   "cell_type": "markdown",
   "id": "0be7965d-25dc-4792-9c29-d021a3f4b0fa",
   "metadata": {},
   "source": [
    "### 49 | Print the middle row of each block, preserving the second dimension"
   ]
  },
  {
   "cell_type": "code",
   "execution_count": 61,
   "id": "57a69816-d44d-4800-8285-cd838035c106",
   "metadata": {},
   "outputs": [
    {
     "name": "stdout",
     "output_type": "stream",
     "text": [
      "[[[ 5  6  7  8]]\n",
      "\n",
      " [[17 18 19 20]]]\n"
     ]
    }
   ],
   "source": [
    "print(t[:,1:2,:])"
   ]
  },
  {
   "cell_type": "markdown",
   "id": "d7820984-1ef2-4847-bf87-674f09f6299a",
   "metadata": {},
   "source": [
    "### 50 | Print the first two rows and the last two columns of each block"
   ]
  },
  {
   "cell_type": "code",
   "execution_count": 62,
   "id": "708dedfa-dc60-430a-b7d5-4c8b54126372",
   "metadata": {},
   "outputs": [
    {
     "name": "stdout",
     "output_type": "stream",
     "text": [
      "[[[ 3  4]\n",
      "  [ 7  8]]\n",
      "\n",
      " [[15 16]\n",
      "  [19 20]]]\n"
     ]
    }
   ],
   "source": [
    "print(t[:,0:2,2:])"
   ]
  },
  {
   "cell_type": "code",
   "execution_count": 63,
   "id": "9eba2e77-3468-40dd-9092-b58439ec68ea",
   "metadata": {},
   "outputs": [
    {
     "name": "stdout",
     "output_type": "stream",
     "text": [
      "[[[ 3  4]\n",
      "  [ 7  8]]\n",
      "\n",
      " [[15 16]\n",
      "  [19 20]]]\n"
     ]
    }
   ],
   "source": [
    "print(t[:,0:2,-2:])"
   ]
  },
  {
   "cell_type": "markdown",
   "id": "f81db03f-4ba0-44c2-8b54-86df2107afd4",
   "metadata": {},
   "source": [
    "### 51 | Select the last row of each block, keeping the shape"
   ]
  },
  {
   "cell_type": "code",
   "execution_count": 64,
   "id": "80ae572f-41df-463c-8402-a03d1e06afc4",
   "metadata": {},
   "outputs": [
    {
     "name": "stdout",
     "output_type": "stream",
     "text": [
      "[[[ 9 10 11 12]]\n",
      "\n",
      " [[21 22 23 24]]]\n"
     ]
    }
   ],
   "source": [
    "print(t[:,-1:,:])"
   ]
  },
  {
   "cell_type": "markdown",
   "id": "c004c657-34fe-47c4-abb7-efeb4f1847ac",
   "metadata": {},
   "source": [
    "### 52 | Select the first two columns of the last two rows in each block"
   ]
  },
  {
   "cell_type": "code",
   "execution_count": 65,
   "id": "a055719b-a0cf-4e84-9eb6-f5fac20367ee",
   "metadata": {},
   "outputs": [
    {
     "name": "stdout",
     "output_type": "stream",
     "text": [
      "[[[ 5  6]\n",
      "  [ 9 10]]\n",
      "\n",
      " [[17 18]\n",
      "  [21 22]]]\n"
     ]
    }
   ],
   "source": [
    "print(t[:,-2:,0:2])"
   ]
  },
  {
   "cell_type": "markdown",
   "id": "484a3c37-60f9-4526-9e73-c5fad2317b4f",
   "metadata": {},
   "source": [
    "### 53 | Replace the middle row of each block with -1"
   ]
  },
  {
   "cell_type": "code",
   "execution_count": 66,
   "id": "145afff2-2e6a-455a-9227-1ceb77089b0c",
   "metadata": {},
   "outputs": [
    {
     "name": "stdout",
     "output_type": "stream",
     "text": [
      "[[[ 1  2  3  4]\n",
      "  [ 5  6  7  8]\n",
      "  [ 9 10 11 12]]\n",
      "\n",
      " [[13 14 15 16]\n",
      "  [17 18 19 20]\n",
      "  [21 22 23 24]]]\n"
     ]
    }
   ],
   "source": [
    "t.copy()[:,1:,:] = -1\n",
    "print(t)"
   ]
  },
  {
   "cell_type": "markdown",
   "id": "2cec11d6-f833-4fc6-b577-733d2a67205d",
   "metadata": {},
   "source": [
    "### 54 | Get the second column of every row in each block, but keep the shape"
   ]
  },
  {
   "cell_type": "code",
   "execution_count": 67,
   "id": "91bc4371-c30e-43ce-9b1a-513548f341fa",
   "metadata": {},
   "outputs": [
    {
     "name": "stdout",
     "output_type": "stream",
     "text": [
      "[[[ 2]\n",
      "  [ 6]\n",
      "  [10]]\n",
      "\n",
      " [[14]\n",
      "  [18]\n",
      "  [22]]]\n"
     ]
    }
   ],
   "source": [
    "print(t[:,:,1:2])"
   ]
  },
  {
   "cell_type": "markdown",
   "id": "c05b92e0-5b7d-4ae2-b531-44aa04818942",
   "metadata": {},
   "source": [
    "### 55 |  Select the second and third rows of each block, but keep the shape"
   ]
  },
  {
   "cell_type": "code",
   "execution_count": 68,
   "id": "a9b0401a-f863-4fac-bcae-7859bc156b38",
   "metadata": {},
   "outputs": [
    {
     "name": "stdout",
     "output_type": "stream",
     "text": [
      "[[[ 5  6  7  8]\n",
      "  [ 9 10 11 12]]\n",
      "\n",
      " [[17 18 19 20]\n",
      "  [21 22 23 24]]]\n"
     ]
    }
   ],
   "source": [
    "print(t[:,1:,:])"
   ]
  },
  {
   "cell_type": "markdown",
   "id": "14432e97-1934-49f6-aad7-8b9ae5d5a22a",
   "metadata": {},
   "source": [
    "### 56 | Get the last element of each row in each block"
   ]
  },
  {
   "cell_type": "code",
   "execution_count": 69,
   "id": "735f664e-2192-495e-9519-d7fd5e210abc",
   "metadata": {},
   "outputs": [
    {
     "name": "stdout",
     "output_type": "stream",
     "text": [
      "[[ 4  8 12]\n",
      " [16 20 24]]\n"
     ]
    }
   ],
   "source": [
    "print(t[:,:,-1])"
   ]
  },
  {
   "cell_type": "markdown",
   "id": "4ba86089-ef0e-403a-8cab-cda02d9c0f7a",
   "metadata": {},
   "source": [
    "### 57 |  Get the last element of each row in each block, but keep the shape"
   ]
  },
  {
   "cell_type": "code",
   "execution_count": 70,
   "id": "ea00a847-743f-46c1-a52c-36b42412bfbe",
   "metadata": {},
   "outputs": [
    {
     "name": "stdout",
     "output_type": "stream",
     "text": [
      "[[[ 4]\n",
      "  [ 8]\n",
      "  [12]]\n",
      "\n",
      " [[16]\n",
      "  [20]\n",
      "  [24]]]\n"
     ]
    }
   ],
   "source": [
    "print(t[:,:,-1:])"
   ]
  },
  {
   "cell_type": "markdown",
   "id": "3f76185d-b5d6-44b0-a5f3-b82aea82436c",
   "metadata": {},
   "source": [
    "### 58 |  Get the last element of each row in each block, but keep the shape"
   ]
  },
  {
   "cell_type": "code",
   "execution_count": 71,
   "id": "ba80fdf5-e795-4214-be2a-3b3e2bd12408",
   "metadata": {},
   "outputs": [
    {
     "name": "stdout",
     "output_type": "stream",
     "text": [
      "[[ 5  6  7  8]\n",
      " [ 9 10 11 12]\n",
      " [13 14 15 16]\n",
      " [17 18 19 20]\n",
      " [21 22 23 24]]\n"
     ]
    }
   ],
   "source": [
    "mask = t[:,:,1] > 5\n",
    "indices = np.where(mask)\n",
    "filtered_rows = t[indices]\n",
    "print(filtered_rows)\n"
   ]
  },
  {
   "cell_type": "markdown",
   "id": "f8bd8e1f-5422-4d42-a8ae-6e06dfd2b854",
   "metadata": {},
   "source": [
    "### 59 | Given the 2D array a,Replace all elements greater than 10 with 10 and print the resulting array."
   ]
  },
  {
   "cell_type": "code",
   "execution_count": 72,
   "id": "76cc9ab8-14b7-411f-8990-5fe086127091",
   "metadata": {},
   "outputs": [
    {
     "name": "stdout",
     "output_type": "stream",
     "text": [
      "[[ 5 10  7]\n",
      " [10  3 10]\n",
      " [ 8 10  6]]\n"
     ]
    }
   ],
   "source": [
    "a = np.array([[5, 12, 7],\n",
    "              [15, 3, 11],\n",
    "              [8, 14, 6]])\n",
    "mask = a > 10\n",
    "a[mask]= 10\n",
    "print(a) "
   ]
  },
  {
   "cell_type": "code",
   "execution_count": 73,
   "id": "d1720579-37d3-485c-8afa-18a6dd86a439",
   "metadata": {},
   "outputs": [
    {
     "name": "stdout",
     "output_type": "stream",
     "text": [
      "[[ 5 10  7]\n",
      " [10  3 10]\n",
      " [ 8 10  6]]\n"
     ]
    }
   ],
   "source": [
    "b = np.clip(a,a.min(),10)\n",
    "print(b)"
   ]
  },
  {
   "cell_type": "markdown",
   "id": "9f2c6f97-dab1-4394-8c20-b9a34a0f51b8",
   "metadata": {},
   "source": [
    "#### 60 | Given the 3D array b below,Extract all rows from the second block where the first column value is even, and print these rows."
   ]
  },
  {
   "cell_type": "code",
   "execution_count": 74,
   "id": "52e37c45-5b9c-43b9-a789-f01ddd40f0fc",
   "metadata": {},
   "outputs": [
    {
     "name": "stdout",
     "output_type": "stream",
     "text": [
      "[[6 3]\n",
      " [8 7]]\n"
     ]
    }
   ],
   "source": [
    "b = np.array([\n",
    "    [[2, 5], [7, 8], [4, 1]],\n",
    "    [[6, 3], [9, 2], [8, 7]],\n",
    "    [[5, 6], [3, 4], [7, 8]]\n",
    "])\n",
    "m =  b[1,:,0] \n",
    "mask = m % 2 == 0  \n",
    "filtered_rows = b[1][mask]\n",
    "print(filtered_rows)"
   ]
  },
  {
   "cell_type": "markdown",
   "id": "b6a4c246-20c6-4a3f-9731-7a612e20eb45",
   "metadata": {},
   "source": [
    "### 61 | Create a 1D array with numbers 0 to 11 and reshape it into a 2D array with shape (3, 4)"
   ]
  },
  {
   "cell_type": "code",
   "execution_count": 75,
   "id": "2fb89fbf-f7d6-4b37-9f24-b8b417692f8f",
   "metadata": {},
   "outputs": [
    {
     "name": "stdout",
     "output_type": "stream",
     "text": [
      "[[ 0  1  2  3]\n",
      " [ 4  5  6  7]\n",
      " [ 8  9 10 11]]\n"
     ]
    }
   ],
   "source": [
    "m = np.arange(0,12).reshape(3,4)\n",
    "print(m)"
   ]
  },
  {
   "cell_type": "markdown",
   "id": "d0f92b5b-a988-40a0-9d8f-74282cd2521f",
   "metadata": {},
   "source": [
    "### 62 | Create a 3D array with shape (2, 3, 4) and change its axes order to (4, 2, 3) using transpose"
   ]
  },
  {
   "cell_type": "code",
   "execution_count": 85,
   "id": "b184990b-6ac2-4f7e-844b-f0af8706ee8c",
   "metadata": {},
   "outputs": [
    {
     "name": "stdout",
     "output_type": "stream",
     "text": [
      "[[[1 1 1]\n",
      "  [1 1 1]\n",
      "  [1 1 1]\n",
      "  [1 1 1]]\n",
      "\n",
      " [[1 1 1]\n",
      "  [1 1 1]\n",
      "  [1 1 1]\n",
      "  [1 1 1]]]\n"
     ]
    }
   ],
   "source": [
    "m = np.ones((2,3,4),dtype=int)\n",
    "n = np.transpose(m,(0,2,1))\n",
    "print(n)"
   ]
  },
  {
   "cell_type": "markdown",
   "id": "3d91ce8f-c4ba-4462-b4d4-12f53d34acf9",
   "metadata": {},
   "source": [
    "### 63 | Create a 3D NumPy array with shape (3, 4, 2). Then reshape it into a 2D array with 6 rows and 4 columns"
   ]
  },
  {
   "cell_type": "code",
   "execution_count": 87,
   "id": "3760b76a-9220-4e4f-a204-b5adf24c19bd",
   "metadata": {},
   "outputs": [
    {
     "name": "stdout",
     "output_type": "stream",
     "text": [
      "[[1. 1. 1. 1.]\n",
      " [1. 1. 1. 1.]\n",
      " [1. 1. 1. 1.]\n",
      " [1. 1. 1. 1.]\n",
      " [1. 1. 1. 1.]\n",
      " [1. 1. 1. 1.]]\n"
     ]
    }
   ],
   "source": [
    "m = np.ones((3,4,2))\n",
    "reshaped = m.reshape(6,4)\n",
    "print(reshaped)"
   ]
  },
  {
   "cell_type": "markdown",
   "id": "42481443-a523-4d78-8147-52fe6b00d6ab",
   "metadata": {},
   "source": [
    "### 64 | Create a 2D array with shape (4, 5). Then split it into 5 equal vertical sections using the split function"
   ]
  },
  {
   "cell_type": "code",
   "execution_count": 95,
   "id": "d8aa58fa-e67f-41a9-91d0-8bc9f829ae68",
   "metadata": {},
   "outputs": [
    {
     "name": "stdout",
     "output_type": "stream",
     "text": [
      "[[ 1]\n",
      " [ 6]\n",
      " [11]\n",
      " [16]]\n"
     ]
    }
   ],
   "source": [
    "m = np.arange(20).reshape(4, 5)\n",
    "a,b,c,d,f = np.split(m,5,axis=1)\n",
    "print(b)\n"
   ]
  },
  {
   "cell_type": "markdown",
   "id": "952b1943-af97-49c1-8bc6-c58ecb87c5fa",
   "metadata": {},
   "source": [
    "### 65 | Create a 3D array with shape (2, 3, 4) and then reshape it to (3, 8)"
   ]
  },
  {
   "cell_type": "code",
   "execution_count": 99,
   "id": "5016df70-4a79-4318-80ff-acfc140b8399",
   "metadata": {},
   "outputs": [
    {
     "name": "stdout",
     "output_type": "stream",
     "text": [
      "[[1 1 1 1 1 1 1 1]\n",
      " [1 1 1 1 1 1 1 1]\n",
      " [1 1 1 1 1 1 1 1]]\n"
     ]
    }
   ],
   "source": [
    "m = np.ones((2,3,4),dtype=int)\n",
    "n = m.reshape(3,8)\n",
    "print(n)"
   ]
  },
  {
   "cell_type": "markdown",
   "id": "8f53fe9d-dfc6-4d4c-b29b-eaab807c5c66",
   "metadata": {},
   "source": [
    "#### 66 | Create a 3D array with shape (2, 4, 5),Then, using reshape and transpose, change its shape so that the output array has shape (5, 2, 4)"
   ]
  },
  {
   "cell_type": "code",
   "execution_count": 102,
   "id": "442a57c8-2355-48ca-b115-bb64db540ee3",
   "metadata": {},
   "outputs": [
    {
     "name": "stdout",
     "output_type": "stream",
     "text": [
      "[[[1 1 1 1]\n",
      "  [1 1 1 1]]\n",
      "\n",
      " [[1 1 1 1]\n",
      "  [1 1 1 1]]\n",
      "\n",
      " [[1 1 1 1]\n",
      "  [1 1 1 1]]\n",
      "\n",
      " [[1 1 1 1]\n",
      "  [1 1 1 1]]\n",
      "\n",
      " [[1 1 1 1]\n",
      "  [1 1 1 1]]]\n"
     ]
    }
   ],
   "source": [
    "m = np.ones((2,4,5),dtype=int)\n",
    "n = np.transpose(m,(2,0,1))\n",
    "print(n)"
   ]
  },
  {
   "cell_type": "markdown",
   "id": "55af2830-5a8a-41da-a640-e205d53776dd",
   "metadata": {},
   "source": [
    "### 67 | Create a 2D array with shape (6, 9) and split it into 3 equal parts along axis 1 (columns),Print each part"
   ]
  },
  {
   "cell_type": "code",
   "execution_count": 107,
   "id": "537c00d8-7d0f-44d1-8c7e-854bc4aa0c5e",
   "metadata": {},
   "outputs": [
    {
     "name": "stdout",
     "output_type": "stream",
     "text": [
      "Part 1:\n",
      " [[1 1 1]\n",
      " [1 1 1]\n",
      " [1 1 1]\n",
      " [1 1 1]\n",
      " [1 1 1]\n",
      " [1 1 1]]\n",
      "Part 2:\n",
      " [[1 1 1]\n",
      " [1 1 1]\n",
      " [1 1 1]\n",
      " [1 1 1]\n",
      " [1 1 1]\n",
      " [1 1 1]]\n",
      "Part 3:\n",
      " [[1 1 1]\n",
      " [1 1 1]\n",
      " [1 1 1]\n",
      " [1 1 1]\n",
      " [1 1 1]\n",
      " [1 1 1]]\n"
     ]
    }
   ],
   "source": [
    "m = np.ones((6,9),dtype=int)\n",
    "parts = np.split(m, 3, axis=1)\n",
    "for i, part in enumerate(parts):\n",
    "    print(f\"Part {i+1}:\\n\", part)"
   ]
  },
  {
   "cell_type": "markdown",
   "id": "0b273faa-f257-455d-8963-a3b5e07e1e4f",
   "metadata": {},
   "source": [
    "### 58 | Create a 3D array with shape (3, 4, 5) and reshape it into a 2D array with shape (6, 10)"
   ]
  },
  {
   "cell_type": "code",
   "execution_count": 110,
   "id": "9d2a9e61-75ed-4d88-8394-cf5071704f91",
   "metadata": {},
   "outputs": [
    {
     "name": "stdout",
     "output_type": "stream",
     "text": [
      "[[1 1 1 1 1 1 1 1 1 1]\n",
      " [1 1 1 1 1 1 1 1 1 1]\n",
      " [1 1 1 1 1 1 1 1 1 1]\n",
      " [1 1 1 1 1 1 1 1 1 1]\n",
      " [1 1 1 1 1 1 1 1 1 1]\n",
      " [1 1 1 1 1 1 1 1 1 1]]\n"
     ]
    }
   ],
   "source": [
    "m = np.ones((3,4,5),dtype=int).reshape(6,10)\n",
    "print(m)"
   ]
  },
  {
   "cell_type": "markdown",
   "id": "2634281a-3d84-4dbd-9358-8be6f7768cf0",
   "metadata": {},
   "source": [
    "##### 59 | Create a 2D array with shape (4, 5) containing values from 1 to 20 , Split it into two arrays: one containing even-indexed rows and the other containing odd-indexed rows"
   ]
  },
  {
   "cell_type": "code",
   "execution_count": 118,
   "id": "9f74a00b-0856-4216-a703-23cbc9f61ddd",
   "metadata": {},
   "outputs": [
    {
     "name": "stdout",
     "output_type": "stream",
     "text": [
      "[[ 1  2  3  4  5]\n",
      " [11 12 13 14 15]]\n"
     ]
    }
   ],
   "source": [
    "m = np.arange(1,21).reshape(4,5)\n",
    "even_rows = m[1::2,:]\n",
    "odd_rows = m[0::2, :]\n",
    "print(odd_rows)"
   ]
  },
  {
   "cell_type": "markdown",
   "id": "7f06977c-ec08-4bdd-85cc-b33e2753ce1f",
   "metadata": {},
   "source": [
    "#### 60 | Create a 3D array of shape (3, 6, 4), then Swap the second and third axes using transpose Extract every second row from the middle axis (after transpose) Extract every second row from the middle axis (after transpose)"
   ]
  },
  {
   "cell_type": "code",
   "execution_count": 122,
   "id": "180bc5e9-8949-496b-bbf0-397672c16eca",
   "metadata": {},
   "outputs": [
    {
     "name": "stdout",
     "output_type": "stream",
     "text": [
      "[[[ 0  4  8]\n",
      "  [12 16 20]]\n",
      "\n",
      " [[ 2  6 10]\n",
      "  [14 18 22]]\n",
      "\n",
      " [[24 28 32]\n",
      "  [36 40 44]]\n",
      "\n",
      " [[26 30 34]\n",
      "  [38 42 46]]\n",
      "\n",
      " [[48 52 56]\n",
      "  [60 64 68]]\n",
      "\n",
      " [[50 54 58]\n",
      "  [62 66 70]]]\n"
     ]
    }
   ],
   "source": [
    "a = np.arange(3 * 6 * 4).reshape(3, 6, 4)\n",
    "b = np.transpose(a, (0, 2, 1)) \n",
    "c = b[:, ::2, :]\n",
    "d = c.reshape(6, 2, 3)\n",
    "print(d)"
   ]
  },
  {
   "cell_type": "code",
   "execution_count": null,
   "id": "e10bfbba-2b49-4d33-9883-1cc76e1d76af",
   "metadata": {},
   "outputs": [],
   "source": []
  }
 ],
 "metadata": {
  "kernelspec": {
   "display_name": "Python 3 (ipykernel)",
   "language": "python",
   "name": "python3"
  },
  "language_info": {
   "codemirror_mode": {
    "name": "ipython",
    "version": 3
   },
   "file_extension": ".py",
   "mimetype": "text/x-python",
   "name": "python",
   "nbconvert_exporter": "python",
   "pygments_lexer": "ipython3",
   "version": "3.12.6"
  }
 },
 "nbformat": 4,
 "nbformat_minor": 5
}
