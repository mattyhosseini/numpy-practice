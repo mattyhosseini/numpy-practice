{
 "cells": [
  {
   "cell_type": "code",
   "execution_count": 2,
   "id": "706758f1-e099-4022-bfb8-c418218a5fec",
   "metadata": {},
   "outputs": [],
   "source": [
    "import numpy as np"
   ]
  },
  {
   "cell_type": "code",
   "execution_count": 3,
   "id": "61e42b06-6e42-4466-8553-1b66cdadb6e1",
   "metadata": {},
   "outputs": [
    {
     "name": "stdout",
     "output_type": "stream",
     "text": [
      "2.1.1\n"
     ]
    }
   ],
   "source": [
    "print(np.__version__)"
   ]
  },
  {
   "cell_type": "code",
   "execution_count": null,
   "id": "ba2b86a9-627f-453a-a836-3760eb10ec4a",
   "metadata": {},
   "outputs": [],
   "source": [
    "    "
   ]
  },
  {
   "cell_type": "markdown",
   "id": "a05f1420-4c41-40c8-90bb-2bb5aba32b74",
   "metadata": {},
   "source": [
    "### 1 | Print the numpy version and the configuration"
   ]
  },
  {
   "cell_type": "code",
   "execution_count": 8,
   "id": "27563501-1236-446d-8023-6bfbf682a96e",
   "metadata": {},
   "outputs": [
    {
     "name": "stdout",
     "output_type": "stream",
     "text": [
      "2.1.1\n"
     ]
    }
   ],
   "source": [
    "print(np.__version__)"
   ]
  },
  {
   "cell_type": "markdown",
   "id": "bd06f6ae-8c13-4e7c-bee6-363864d3448a",
   "metadata": {},
   "source": [
    "### 2 | Create a null vector of size 10"
   ]
  },
  {
   "cell_type": "code",
   "execution_count": 11,
   "id": "7f8dd91b-a031-4aa9-8475-af1439ded6b7",
   "metadata": {},
   "outputs": [
    {
     "name": "stdout",
     "output_type": "stream",
     "text": [
      "[0 0 0 0 0 0 0 0 0 0]\n"
     ]
    }
   ],
   "source": [
    "v = np.zeros(10 , dtype = int)\n",
    "print(v)"
   ]
  },
  {
   "cell_type": "markdown",
   "id": "a0a9d0db-84f0-42d0-bab6-990ffe6c2a8f",
   "metadata": {},
   "source": [
    "### 3| Create a null vector of size 10 but the fifth value which is 1"
   ]
  },
  {
   "cell_type": "code",
   "execution_count": 15,
   "id": "3af5eb4e-8b25-43e1-b773-4cb4a5949a04",
   "metadata": {},
   "outputs": [
    {
     "name": "stdout",
     "output_type": "stream",
     "text": [
      "[0 0 0 0 1 0 0 0 0 0]\n"
     ]
    }
   ],
   "source": [
    "v = np.zeros(10 , dtype = int)\n",
    "v[4] = 1\n",
    "print(v)"
   ]
  },
  {
   "cell_type": "markdown",
   "id": "25d49eec-9921-4c2c-9430-4a8de4c44c7f",
   "metadata": {},
   "source": [
    "### 4 | Create a vector with values ranging from 10 to 49"
   ]
  },
  {
   "cell_type": "code",
   "execution_count": 17,
   "id": "863ff21a-4eae-4a5e-867b-f951ed98e9f5",
   "metadata": {},
   "outputs": [
    {
     "name": "stdout",
     "output_type": "stream",
     "text": [
      "[10 11 12 13 14 15 16 17 18 19 20 21 22 23 24 25 26 27 28 29 30 31 32 33\n",
      " 34 35 36 37 38 39 40 41 42 43 44 45 46 47 48 49]\n"
     ]
    }
   ],
   "source": [
    "v = np.arange(10,50)\n",
    "print(v)"
   ]
  },
  {
   "cell_type": "markdown",
   "id": "363c2e4e-2e83-47b3-ad6e-2f00b4d252b0",
   "metadata": {},
   "source": [
    "### 5 | Reverse a vector (first element becomes last)"
   ]
  },
  {
   "cell_type": "code",
   "execution_count": 19,
   "id": "4d4042ba-1d27-4a5b-a8b8-464d80c44e50",
   "metadata": {},
   "outputs": [
    {
     "name": "stdout",
     "output_type": "stream",
     "text": [
      "[49 48 47 46 45 44 43 42 41 40 39 38 37 36 35 34 33 32 31 30 29 28 27 26\n",
      " 25 24 23 22 21 20 19 18 17 16 15 14 13 12 11 10  9  8  7  6  5  4  3  2\n",
      "  1  0]\n"
     ]
    }
   ],
   "source": [
    "v = np.arange(50)\n",
    "v = v[::-1]\n",
    "print(v)"
   ]
  },
  {
   "cell_type": "markdown",
   "id": "53c6b690-fa52-40e6-a777-61f1a4b44498",
   "metadata": {},
   "source": [
    "### 5 | Create a 3x3 matrix with values ranging from 0 to 8"
   ]
  },
  {
   "cell_type": "code",
   "execution_count": 22,
   "id": "218a8afe-8d89-4e0f-8049-13c4b337d7bb",
   "metadata": {},
   "outputs": [
    {
     "name": "stdout",
     "output_type": "stream",
     "text": [
      "[[0 1 2]\n",
      " [3 4 5]\n",
      " [6 7 8]]\n"
     ]
    }
   ],
   "source": [
    "m =np.arange(9).reshape(3,3)\n",
    "print(m)"
   ]
  },
  {
   "cell_type": "markdown",
   "id": "39cdb697-560e-471b-9a62-c65e43ace66d",
   "metadata": {},
   "source": [
    "### 6 | Find indices of nonzero elements from [1,2,0,0,4,0]\n"
   ]
  },
  {
   "cell_type": "code",
   "execution_count": 28,
   "id": "ab96ac84-b3f2-46cc-9b7f-8a03adf79841",
   "metadata": {},
   "outputs": [
    {
     "name": "stdout",
     "output_type": "stream",
     "text": [
      "(array([0, 1, 4]),)\n"
     ]
    }
   ],
   "source": [
    "v = np.nonzero([1,2,0,0,4,0])\n",
    "print(v)"
   ]
  },
  {
   "cell_type": "markdown",
   "id": "cb8fbad0-77b5-4798-aa08-c0ffbea5fcda",
   "metadata": {},
   "source": [
    "### 7 | Create a 3x3 `identity` matrix"
   ]
  },
  {
   "cell_type": "markdown",
   "id": "dfc371b8-43d8-4842-aaf8-8a7c922282e5",
   "metadata": {},
   "source": [
    "#### ماتریس هویت / Identity Matrix\n",
    "\n",
    "ماتریس هویت یک ماتریس مربعی است که در آن عناصر قطری برابر با ۱ و بقیه عناصر برابر با ۰ هستند، و در ضرب با هر ماتریس دیگری نتیجه همان ماتریس را می‌دهد.\n",
    "\n",
    "An identity matrix is a square matrix in which all the diagonal elements are 1 and all other elements are 0. It leaves other matrices unchanged when multiplied by them.\n"
   ]
  },
  {
   "cell_type": "code",
   "execution_count": 31,
   "id": "74eacafc-3d94-4e2d-8e11-114a8aa5fd92",
   "metadata": {},
   "outputs": [
    {
     "name": "stdout",
     "output_type": "stream",
     "text": [
      "[[1. 0. 0.]\n",
      " [0. 1. 0.]\n",
      " [0. 0. 1.]]\n"
     ]
    }
   ],
   "source": [
    "m = np.identity(3)\n",
    "print(m)"
   ]
  },
  {
   "cell_type": "markdown",
   "id": "c7e7a04f-e14d-4e88-917c-4efcff376de7",
   "metadata": {},
   "source": [
    "### 8 | Create a 3x3x3 array with random values"
   ]
  },
  {
   "cell_type": "code",
   "execution_count": 35,
   "id": "96fbe46d-9183-473f-80d6-c54cd77c4d8f",
   "metadata": {},
   "outputs": [
    {
     "name": "stdout",
     "output_type": "stream",
     "text": [
      "[[[7 8 7]\n",
      "  [1 2 9]\n",
      "  [6 2 4]]\n",
      "\n",
      " [[7 6 2]\n",
      "  [2 4 9]\n",
      "  [0 5 2]]\n",
      "\n",
      " [[7 0 9]\n",
      "  [6 2 2]\n",
      "  [6 0 7]]]\n"
     ]
    }
   ],
   "source": [
    "m = np.random.randint(0,10,size=(3,3,3))\n",
    "print(m)"
   ]
  },
  {
   "cell_type": "code",
   "execution_count": 44,
   "id": "e838d54b-4644-4ce2-a8dd-c37fcfcf97ef",
   "metadata": {},
   "outputs": [
    {
     "name": "stdout",
     "output_type": "stream",
     "text": [
      "[[[0.56300174 0.52288917 0.52208425]\n",
      "  [0.98834099 0.03474792 0.61975835]\n",
      "  [0.63998551 0.08196252 0.02539554]]\n",
      "\n",
      " [[0.15456671 0.37938633 0.87112398]\n",
      "  [0.04390573 0.98060755 0.73725392]\n",
      "  [0.79438162 0.78873624 0.0286968 ]]\n",
      "\n",
      " [[0.10045527 0.4535612  0.59288303]\n",
      "  [0.15561462 0.0308305  0.88968165]\n",
      "  [0.90350678 0.66350269 0.60106208]]]\n"
     ]
    }
   ],
   "source": [
    "m = np.random.random(size=(3,3,3))\n",
    "print(m)"
   ]
  },
  {
   "cell_type": "markdown",
   "id": "d6fe241b-5412-4556-922d-5de699672bd8",
   "metadata": {},
   "source": [
    "### 9 | Create a 10x10 array with random values and find the minimum and maximum values\n"
   ]
  },
  {
   "cell_type": "code",
   "execution_count": 45,
   "id": "caf4278e-882a-4811-b50b-c1b94a648922",
   "metadata": {},
   "outputs": [
    {
     "name": "stdout",
     "output_type": "stream",
     "text": [
      "0.9683873109102804 0.008603108280660354\n"
     ]
    }
   ],
   "source": [
    "m = np.random.random(size=(10,10))\n",
    "max_value , min_value = np.max(m) , np.min(m)\n",
    "print(max_value,min_value)"
   ]
  },
  {
   "cell_type": "code",
   "execution_count": 46,
   "id": "dc1eb467-43ab-46e5-896d-aac1aa08c188",
   "metadata": {},
   "outputs": [
    {
     "name": "stdout",
     "output_type": "stream",
     "text": [
      "0.9911025998150966 0.004152219545075053\n"
     ]
    }
   ],
   "source": [
    "m = np.random.random(size=(10,10))\n",
    "max_value , min_value = m.max(),m.min()\n",
    "print(max_value,min_value)"
   ]
  },
  {
   "cell_type": "code",
   "execution_count": 48,
   "id": "a9c5d65a-ec21-4c34-bf97-2c71ad63170b",
   "metadata": {},
   "outputs": [
    {
     "name": "stdout",
     "output_type": "stream",
     "text": [
      "[[3 1 2 0 0 3 4 3 4 2]\n",
      " [1 2 1 4 2 4 0 1 3 2]\n",
      " [3 0 1 2 0 0 4 4 0 2]\n",
      " [4 0 0 4 2 3 4 3 2 0]\n",
      " [0 2 1 0 3 4 4 2 2 3]\n",
      " [0 1 4 1 2 2 1 0 1 1]\n",
      " [1 0 2 2 0 3 4 2 2 3]\n",
      " [1 1 0 1 1 4 3 2 3 3]\n",
      " [0 4 3 4 2 3 2 2 4 0]\n",
      " [3 0 0 0 1 3 1 4 4 4]]\n"
     ]
    }
   ],
   "source": [
    "m = np.random.randint(0,5,size=(10,10))\n",
    "print(m)"
   ]
  },
  {
   "cell_type": "markdown",
   "id": "b317089b-819a-43ad-b5e7-16d612530a9f",
   "metadata": {},
   "source": [
    "### 10 | Create a random vector of size 30 and find the mean value"
   ]
  },
  {
   "cell_type": "code",
   "execution_count": 53,
   "id": "7a8c6337-2850-48f1-8596-d792583a1e04",
   "metadata": {},
   "outputs": [
    {
     "name": "stdout",
     "output_type": "stream",
     "text": [
      "4.166666666666667\n"
     ]
    }
   ],
   "source": [
    "v = np.random.randint(0,10 , size=(30))\n",
    "v = v.mean()\n",
    "print(v)"
   ]
  },
  {
   "cell_type": "markdown",
   "id": "a0956162-8fce-4161-afb0-a60e044d2b28",
   "metadata": {},
   "source": [
    "### 11 | Create a 2d array with 1 on the border and 0 inside"
   ]
  },
  {
   "cell_type": "code",
   "execution_count": 10,
   "id": "f9fe6533-cc5f-48bc-a877-7e2120fc2362",
   "metadata": {},
   "outputs": [
    {
     "name": "stdout",
     "output_type": "stream",
     "text": [
      "[[1 1 1 1 1 1 1 1 1 1]\n",
      " [1 0 0 0 0 0 0 0 0 1]\n",
      " [1 0 0 0 0 0 0 0 0 1]\n",
      " [1 0 0 0 0 0 0 0 0 1]\n",
      " [1 0 0 0 0 0 0 0 0 1]\n",
      " [1 0 0 0 0 0 0 0 0 1]\n",
      " [1 0 0 0 0 0 0 0 0 1]\n",
      " [1 0 0 0 0 0 0 0 0 1]\n",
      " [1 0 0 0 0 0 0 0 0 1]\n",
      " [1 1 1 1 1 1 1 1 1 1]]\n"
     ]
    }
   ],
   "source": [
    "m = np.ones((10,10),dtype=int)\n",
    "m[1:-1,1:-1] = 0\n",
    "print(m)"
   ]
  },
  {
   "cell_type": "markdown",
   "id": "b4a9e311-66b4-4ff2-8133-930b9c350c26",
   "metadata": {},
   "source": [
    "### 12 | What is the result of the following expression?"
   ]
  },
  {
   "cell_type": "code",
   "execution_count": 12,
   "id": "82e90e23-20b8-4a10-8bc6-f2dc95eb9de2",
   "metadata": {},
   "outputs": [
    {
     "name": "stdout",
     "output_type": "stream",
     "text": [
      "[[0 0 0 0 0]\n",
      " [1 0 0 0 0]\n",
      " [0 2 0 0 0]\n",
      " [0 0 3 0 0]\n",
      " [0 0 0 4 0]]\n"
     ]
    }
   ],
   "source": [
    "m = np.diag(1 + np.arange(4), k=-1)\n",
    "print(m)"
   ]
  },
  {
   "cell_type": "markdown",
   "id": "ef96d66e-eed9-495f-95b2-89599af6bc0b",
   "metadata": {},
   "source": [
    "### 13 | Create a 8x8 matrix and fill it with a checkerboard pattern"
   ]
  },
  {
   "cell_type": "code",
   "execution_count": 28,
   "id": "c5fc7b6a-3390-4506-842f-d0e2d7e25fb8",
   "metadata": {},
   "outputs": [
    {
     "name": "stdout",
     "output_type": "stream",
     "text": [
      "[[0 1 0 1 0 1 0 1]\n",
      " [1 0 1 0 1 0 1 0]\n",
      " [0 1 0 1 0 1 0 1]\n",
      " [1 0 1 0 1 0 1 0]\n",
      " [0 1 0 1 0 1 0 1]\n",
      " [1 0 1 0 1 0 1 0]\n",
      " [0 1 0 1 0 1 0 1]\n",
      " [1 0 1 0 1 0 1 0]]\n"
     ]
    }
   ],
   "source": [
    "m = np.zeros((8,8),dtype=int)\n",
    "m[1::2,::2]=1 \n",
    "m[::2,1::2]=1\n",
    "print(m)"
   ]
  },
  {
   "cell_type": "markdown",
   "id": "46a5a95b-93ca-4182-868c-fff95fe996ac",
   "metadata": {},
   "source": [
    "### 14 | Create a checkerboard 8x8 matrix using the tile function"
   ]
  },
  {
   "cell_type": "code",
   "execution_count": 32,
   "id": "69a4d001-6476-4694-b7cc-75d15ebd3f7e",
   "metadata": {},
   "outputs": [
    {
     "name": "stdout",
     "output_type": "stream",
     "text": [
      "[[0 1 0 1 0 1 0 1]\n",
      " [1 0 1 0 1 0 1 0]\n",
      " [0 1 0 1 0 1 0 1]\n",
      " [1 0 1 0 1 0 1 0]\n",
      " [0 1 0 1 0 1 0 1]\n",
      " [1 0 1 0 1 0 1 0]\n",
      " [0 1 0 1 0 1 0 1]\n",
      " [1 0 1 0 1 0 1 0]]\n"
     ]
    }
   ],
   "source": [
    "m = np.tile(np.array([[0,1],[1,0]]),(4,4))\n",
    "print(m)"
   ]
  },
  {
   "cell_type": "markdown",
   "id": "b4398b17-e725-4bad-9664-4924d689b53d",
   "metadata": {},
   "source": [
    "### 15 | Normalize a 5x5 random matrix"
   ]
  },
  {
   "cell_type": "code",
   "execution_count": 34,
   "id": "56923d87-749b-4e51-af21-09599e5c8ad2",
   "metadata": {},
   "outputs": [
    {
     "name": "stdout",
     "output_type": "stream",
     "text": [
      "[[0.03253419 0.59163435 0.92910908 0.70579876 0.28021835]\n",
      " [0.59641919 0.27973673 1.         0.28289697 0.27238368]\n",
      " [0.03412728 0.39667086 0.86979669 0.15165032 0.        ]\n",
      " [0.8318821  0.05332412 0.5525875  0.39865209 0.69245356]\n",
      " [0.30006347 0.8717279  0.38893121 0.14300384 0.0222705 ]]\n"
     ]
    }
   ],
   "source": [
    "m = np.random.random((5,5))\n",
    "minValue,maxValue = m.min(),m.max()\n",
    "normalize = (m-minValue)/(maxValue-minValue)\n",
    "print(normalize)"
   ]
  },
  {
   "cell_type": "markdown",
   "id": "f1b9c93c-a94c-4476-9e93-f45a9e33f795",
   "metadata": {},
   "source": [
    "### 16 | Create a custom dtype that describes a color as four unisgned bytes (RGBA)"
   ]
  },
  {
   "cell_type": "code",
   "execution_count": 36,
   "id": "af19d0fe-0bdd-426b-9536-5b64cde43b58",
   "metadata": {},
   "outputs": [],
   "source": [
    "color = np.dtype([(\"r\", np.ubyte, 1),\n",
    "(\"g\", np.ubyte, 1),\n",
    "(\"b\", np.ubyte, 1),\n",
    "(\"a\", np.ubyte, 1)])"
   ]
  },
  {
   "cell_type": "markdown",
   "id": "9863e04c-0d6d-4ea9-a10c-bd3040b81c5f",
   "metadata": {},
   "source": [
    "### 17 | Multiply a 5x3 matrix by a 3x2 matrix (real matrix product)"
   ]
  },
  {
   "cell_type": "code",
   "execution_count": 39,
   "id": "79a3a15f-2706-4143-8dae-c3343636c015",
   "metadata": {},
   "outputs": [
    {
     "name": "stdout",
     "output_type": "stream",
     "text": [
      "[[3 3]\n",
      " [3 3]\n",
      " [3 3]\n",
      " [3 3]\n",
      " [3 3]]\n"
     ]
    }
   ],
   "source": [
    "m = np.dot(np.ones((5,3),dtype=int),np.ones((3,2),dtype=int))\n",
    "print(m)"
   ]
  },
  {
   "cell_type": "code",
   "execution_count": 40,
   "id": "dae81c6e-7cac-46de-9a3f-9bf42e46899f",
   "metadata": {},
   "outputs": [
    {
     "data": {
      "text/plain": [
       "array([[1, 1, 1],\n",
       "       [1, 1, 1],\n",
       "       [1, 1, 1],\n",
       "       [1, 1, 1],\n",
       "       [1, 1, 1]])"
      ]
     },
     "execution_count": 40,
     "metadata": {},
     "output_type": "execute_result"
    }
   ],
   "source": [
    "np.ones((5,3),dtype=int)"
   ]
  },
  {
   "cell_type": "markdown",
   "id": "794dc764-b225-41ce-b81c-8fc6caeec931",
   "metadata": {},
   "source": [
    "### 18 | Given a 1D array, negate all elements which are between 3 and 8, in place"
   ]
  },
  {
   "cell_type": "code",
   "execution_count": 55,
   "id": "8606c3f3-a16d-46ec-a258-a1128a3966ac",
   "metadata": {},
   "outputs": [
    {
     "name": "stdout",
     "output_type": "stream",
     "text": [
      "[ 0  1  2  3 -4 -5 -6 -7 -8  9 10]\n"
     ]
    }
   ],
   "source": [
    "m = np.arange(11)\n",
    "m[(3<m)&(m<=8)] *= -1\n",
    "print(m)"
   ]
  },
  {
   "cell_type": "markdown",
   "id": "b866a67c-3750-4770-a031-3f090529c696",
   "metadata": {},
   "source": [
    "### 19 | What is the output of the following script?"
   ]
  },
  {
   "cell_type": "code",
   "execution_count": 56,
   "id": "4bcda634-f994-4937-a928-8b1548951dc1",
   "metadata": {},
   "outputs": [
    {
     "name": "stdout",
     "output_type": "stream",
     "text": [
      "[[0 1 2 3 4]\n",
      " [0 1 2 3 4]\n",
      " [0 1 2 3 4]\n",
      " [0 1 2 3 4]\n",
      " [0 1 2 3 4]]\n"
     ]
    }
   ],
   "source": [
    "Z = np.zeros((5,5),dtype=int)\n",
    "Z += np.arange(5)\n",
    "print(Z)"
   ]
  },
  {
   "cell_type": "code",
   "execution_count": null,
   "id": "503d6480-895f-4068-82ae-34862de7ebc3",
   "metadata": {},
   "outputs": [],
   "source": []
  }
 ],
 "metadata": {
  "kernelspec": {
   "display_name": "Python 3 (ipykernel)",
   "language": "python",
   "name": "python3"
  },
  "language_info": {
   "codemirror_mode": {
    "name": "ipython",
    "version": 3
   },
   "file_extension": ".py",
   "mimetype": "text/x-python",
   "name": "python",
   "nbconvert_exporter": "python",
   "pygments_lexer": "ipython3",
   "version": "3.12.6"
  }
 },
 "nbformat": 4,
 "nbformat_minor": 5
}
