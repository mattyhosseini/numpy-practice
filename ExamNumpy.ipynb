{
 "cells": [
  {
   "cell_type": "code",
   "execution_count": 2,
   "id": "706758f1-e099-4022-bfb8-c418218a5fec",
   "metadata": {},
   "outputs": [],
   "source": [
    "import numpy as np"
   ]
  },
  {
   "cell_type": "code",
   "execution_count": 3,
   "id": "61e42b06-6e42-4466-8553-1b66cdadb6e1",
   "metadata": {},
   "outputs": [
    {
     "name": "stdout",
     "output_type": "stream",
     "text": [
      "2.1.1\n"
     ]
    }
   ],
   "source": [
    "print(np.__version__)"
   ]
  },
  {
   "cell_type": "markdown",
   "id": "a05f1420-4c41-40c8-90bb-2bb5aba32b74",
   "metadata": {},
   "source": [
    "### 1 | Print the numpy version and the configuration"
   ]
  },
  {
   "cell_type": "code",
   "execution_count": 4,
   "id": "27563501-1236-446d-8023-6bfbf682a96e",
   "metadata": {},
   "outputs": [
    {
     "name": "stdout",
     "output_type": "stream",
     "text": [
      "2.1.1\n"
     ]
    }
   ],
   "source": [
    "print(np.__version__)"
   ]
  },
  {
   "cell_type": "markdown",
   "id": "bd06f6ae-8c13-4e7c-bee6-363864d3448a",
   "metadata": {},
   "source": [
    "### 2 | Create a null vector of size 10"
   ]
  },
  {
   "cell_type": "code",
   "execution_count": 5,
   "id": "7f8dd91b-a031-4aa9-8475-af1439ded6b7",
   "metadata": {},
   "outputs": [
    {
     "name": "stdout",
     "output_type": "stream",
     "text": [
      "[0 0 0 0 0 0 0 0 0 0]\n"
     ]
    }
   ],
   "source": [
    "v = np.zeros(10 , dtype = int)\n",
    "print(v)"
   ]
  },
  {
   "cell_type": "markdown",
   "id": "a0a9d0db-84f0-42d0-bab6-990ffe6c2a8f",
   "metadata": {},
   "source": [
    "### 3| Create a null vector of size 10 but the fifth value which is 1"
   ]
  },
  {
   "cell_type": "code",
   "execution_count": 6,
   "id": "3af5eb4e-8b25-43e1-b773-4cb4a5949a04",
   "metadata": {},
   "outputs": [
    {
     "name": "stdout",
     "output_type": "stream",
     "text": [
      "[0 0 0 0 1 0 0 0 0 0]\n"
     ]
    }
   ],
   "source": [
    "v = np.zeros(10 , dtype = int)\n",
    "v[4] = 1\n",
    "print(v)"
   ]
  },
  {
   "cell_type": "markdown",
   "id": "25d49eec-9921-4c2c-9430-4a8de4c44c7f",
   "metadata": {},
   "source": [
    "### 4 | Create a vector with values ranging from 10 to 49"
   ]
  },
  {
   "cell_type": "code",
   "execution_count": 7,
   "id": "863ff21a-4eae-4a5e-867b-f951ed98e9f5",
   "metadata": {},
   "outputs": [
    {
     "name": "stdout",
     "output_type": "stream",
     "text": [
      "[10 11 12 13 14 15 16 17 18 19 20 21 22 23 24 25 26 27 28 29 30 31 32 33\n",
      " 34 35 36 37 38 39 40 41 42 43 44 45 46 47 48 49]\n"
     ]
    }
   ],
   "source": [
    "v = np.arange(10,50)\n",
    "print(v)"
   ]
  },
  {
   "cell_type": "markdown",
   "id": "363c2e4e-2e83-47b3-ad6e-2f00b4d252b0",
   "metadata": {},
   "source": [
    "### 5 | Reverse a vector (first element becomes last)"
   ]
  },
  {
   "cell_type": "code",
   "execution_count": 8,
   "id": "4d4042ba-1d27-4a5b-a8b8-464d80c44e50",
   "metadata": {},
   "outputs": [
    {
     "name": "stdout",
     "output_type": "stream",
     "text": [
      "[49 48 47 46 45 44 43 42 41 40 39 38 37 36 35 34 33 32 31 30 29 28 27 26\n",
      " 25 24 23 22 21 20 19 18 17 16 15 14 13 12 11 10  9  8  7  6  5  4  3  2\n",
      "  1  0]\n"
     ]
    }
   ],
   "source": [
    "v = np.arange(50)\n",
    "v = v[::-1]\n",
    "print(v)"
   ]
  },
  {
   "cell_type": "markdown",
   "id": "53c6b690-fa52-40e6-a777-61f1a4b44498",
   "metadata": {},
   "source": [
    "### 5 | Create a 3x3 matrix with values ranging from 0 to 8"
   ]
  },
  {
   "cell_type": "code",
   "execution_count": 9,
   "id": "218a8afe-8d89-4e0f-8049-13c4b337d7bb",
   "metadata": {},
   "outputs": [
    {
     "name": "stdout",
     "output_type": "stream",
     "text": [
      "[[0 1 2]\n",
      " [3 4 5]\n",
      " [6 7 8]]\n"
     ]
    }
   ],
   "source": [
    "m =np.arange(9).reshape(3,3)\n",
    "print(m)"
   ]
  },
  {
   "cell_type": "markdown",
   "id": "39cdb697-560e-471b-9a62-c65e43ace66d",
   "metadata": {},
   "source": [
    "### 6 | Find indices of nonzero elements from [1,2,0,0,4,0]\n"
   ]
  },
  {
   "cell_type": "code",
   "execution_count": 10,
   "id": "ab96ac84-b3f2-46cc-9b7f-8a03adf79841",
   "metadata": {},
   "outputs": [
    {
     "name": "stdout",
     "output_type": "stream",
     "text": [
      "(array([0, 1, 4]),)\n"
     ]
    }
   ],
   "source": [
    "v = np.nonzero([1,2,0,0,4,0])\n",
    "print(v)"
   ]
  },
  {
   "cell_type": "markdown",
   "id": "cb8fbad0-77b5-4798-aa08-c0ffbea5fcda",
   "metadata": {},
   "source": [
    "### 7 | Create a 3x3 `identity` matrix"
   ]
  },
  {
   "cell_type": "markdown",
   "id": "dfc371b8-43d8-4842-aaf8-8a7c922282e5",
   "metadata": {},
   "source": [
    "#### ماتریس هویت / Identity Matrix\n",
    "\n",
    "ماتریس هویت یک ماتریس مربعی است که در آن عناصر قطری برابر با ۱ و بقیه عناصر برابر با ۰ هستند، و در ضرب با هر ماتریس دیگری نتیجه همان ماتریس را می‌دهد.\n",
    "\n",
    "An identity matrix is a square matrix in which all the diagonal elements are 1 and all other elements are 0. It leaves other matrices unchanged when multiplied by them.\n"
   ]
  },
  {
   "cell_type": "code",
   "execution_count": 11,
   "id": "74eacafc-3d94-4e2d-8e11-114a8aa5fd92",
   "metadata": {},
   "outputs": [
    {
     "name": "stdout",
     "output_type": "stream",
     "text": [
      "[[1. 0. 0.]\n",
      " [0. 1. 0.]\n",
      " [0. 0. 1.]]\n"
     ]
    }
   ],
   "source": [
    "m = np.identity(3)\n",
    "print(m)"
   ]
  },
  {
   "cell_type": "markdown",
   "id": "c7e7a04f-e14d-4e88-917c-4efcff376de7",
   "metadata": {},
   "source": [
    "### 8 | Create a 3x3x3 array with random values"
   ]
  },
  {
   "cell_type": "code",
   "execution_count": 12,
   "id": "96fbe46d-9183-473f-80d6-c54cd77c4d8f",
   "metadata": {},
   "outputs": [
    {
     "name": "stdout",
     "output_type": "stream",
     "text": [
      "[[[4 2 2]\n",
      "  [7 3 8]\n",
      "  [2 6 2]]\n",
      "\n",
      " [[5 9 0]\n",
      "  [1 2 1]\n",
      "  [5 1 1]]\n",
      "\n",
      " [[6 3 3]\n",
      "  [6 7 5]\n",
      "  [7 1 6]]]\n"
     ]
    }
   ],
   "source": [
    "m = np.random.randint(0,10,size=(3,3,3))\n",
    "print(m)"
   ]
  },
  {
   "cell_type": "code",
   "execution_count": 13,
   "id": "e838d54b-4644-4ce2-a8dd-c37fcfcf97ef",
   "metadata": {},
   "outputs": [
    {
     "name": "stdout",
     "output_type": "stream",
     "text": [
      "[[[0.89225466 0.48574424 0.14081118]\n",
      "  [0.87376874 0.53823635 0.5233948 ]\n",
      "  [0.16981801 0.7048611  0.19306798]]\n",
      "\n",
      " [[0.15557787 0.70192197 0.0587055 ]\n",
      "  [0.44814494 0.73211564 0.47073503]\n",
      "  [0.55461761 0.99844334 0.6753248 ]]\n",
      "\n",
      " [[0.17485364 0.22533802 0.0179433 ]\n",
      "  [0.39070496 0.44611318 0.70613012]\n",
      "  [0.11864872 0.77120242 0.44253634]]]\n"
     ]
    }
   ],
   "source": [
    "m = np.random.random(size=(3,3,3))\n",
    "print(m)"
   ]
  },
  {
   "cell_type": "markdown",
   "id": "d6fe241b-5412-4556-922d-5de699672bd8",
   "metadata": {},
   "source": [
    "### 9 | Create a 10x10 array with random values and find the minimum and maximum values\n"
   ]
  },
  {
   "cell_type": "code",
   "execution_count": 14,
   "id": "caf4278e-882a-4811-b50b-c1b94a648922",
   "metadata": {},
   "outputs": [
    {
     "name": "stdout",
     "output_type": "stream",
     "text": [
      "0.9723920607519159 0.012998358596752912\n"
     ]
    }
   ],
   "source": [
    "m = np.random.random(size=(10,10))\n",
    "max_value , min_value = np.max(m) , np.min(m)\n",
    "print(max_value,min_value)"
   ]
  },
  {
   "cell_type": "code",
   "execution_count": 15,
   "id": "dc1eb467-43ab-46e5-896d-aac1aa08c188",
   "metadata": {},
   "outputs": [
    {
     "name": "stdout",
     "output_type": "stream",
     "text": [
      "0.9999995196823481 0.018667404247977193\n"
     ]
    }
   ],
   "source": [
    "m = np.random.random(size=(10,10))\n",
    "max_value , min_value = m.max(),m.min()\n",
    "print(max_value,min_value)"
   ]
  },
  {
   "cell_type": "code",
   "execution_count": 16,
   "id": "a9c5d65a-ec21-4c34-bf97-2c71ad63170b",
   "metadata": {},
   "outputs": [
    {
     "name": "stdout",
     "output_type": "stream",
     "text": [
      "[[3 3 0 4 0 2 3 2 2 2]\n",
      " [0 4 1 3 1 4 3 1 3 4]\n",
      " [3 2 4 0 4 0 0 2 1 1]\n",
      " [3 4 1 1 2 0 2 0 2 1]\n",
      " [4 4 0 2 2 0 4 1 2 0]\n",
      " [2 4 3 3 0 0 0 4 4 0]\n",
      " [1 3 3 1 1 3 1 4 0 4]\n",
      " [4 1 1 1 2 4 0 0 4 4]\n",
      " [3 3 2 3 4 2 1 2 1 4]\n",
      " [4 2 1 4 4 2 2 1 2 2]]\n"
     ]
    }
   ],
   "source": [
    "m = np.random.randint(0,5,size=(10,10))\n",
    "print(m)"
   ]
  },
  {
   "cell_type": "markdown",
   "id": "b317089b-819a-43ad-b5e7-16d612530a9f",
   "metadata": {},
   "source": [
    "### 10 | Create a random vector of size 30 and find the mean value"
   ]
  },
  {
   "cell_type": "code",
   "execution_count": 17,
   "id": "7a8c6337-2850-48f1-8596-d792583a1e04",
   "metadata": {},
   "outputs": [
    {
     "name": "stdout",
     "output_type": "stream",
     "text": [
      "3.5\n"
     ]
    }
   ],
   "source": [
    "v = np.random.randint(0,10 , size=(30))\n",
    "v = v.mean()\n",
    "print(v)"
   ]
  },
  {
   "cell_type": "markdown",
   "id": "a0956162-8fce-4161-afb0-a60e044d2b28",
   "metadata": {},
   "source": [
    "### 11 | Create a 2d array with 1 on the border and 0 inside"
   ]
  },
  {
   "cell_type": "code",
   "execution_count": 18,
   "id": "f9fe6533-cc5f-48bc-a877-7e2120fc2362",
   "metadata": {},
   "outputs": [
    {
     "name": "stdout",
     "output_type": "stream",
     "text": [
      "[[1 1 1 1 1 1 1 1 1 1]\n",
      " [1 0 0 0 0 0 0 0 0 1]\n",
      " [1 0 0 0 0 0 0 0 0 1]\n",
      " [1 0 0 0 0 0 0 0 0 1]\n",
      " [1 0 0 0 0 0 0 0 0 1]\n",
      " [1 0 0 0 0 0 0 0 0 1]\n",
      " [1 0 0 0 0 0 0 0 0 1]\n",
      " [1 0 0 0 0 0 0 0 0 1]\n",
      " [1 0 0 0 0 0 0 0 0 1]\n",
      " [1 1 1 1 1 1 1 1 1 1]]\n"
     ]
    }
   ],
   "source": [
    "m = np.ones((10,10),dtype=int)\n",
    "m[1:-1,1:-1] = 0\n",
    "print(m)"
   ]
  },
  {
   "cell_type": "markdown",
   "id": "b4a9e311-66b4-4ff2-8133-930b9c350c26",
   "metadata": {},
   "source": [
    "### 12 | What is the result of the following expression?"
   ]
  },
  {
   "cell_type": "code",
   "execution_count": 19,
   "id": "82e90e23-20b8-4a10-8bc6-f2dc95eb9de2",
   "metadata": {},
   "outputs": [
    {
     "name": "stdout",
     "output_type": "stream",
     "text": [
      "[[0 0 0 0 0]\n",
      " [1 0 0 0 0]\n",
      " [0 2 0 0 0]\n",
      " [0 0 3 0 0]\n",
      " [0 0 0 4 0]]\n"
     ]
    }
   ],
   "source": [
    "m = np.diag(1 + np.arange(4), k=-1)\n",
    "print(m)"
   ]
  },
  {
   "cell_type": "markdown",
   "id": "ef96d66e-eed9-495f-95b2-89599af6bc0b",
   "metadata": {},
   "source": [
    "### 13 | Create a 8x8 matrix and fill it with a checkerboard pattern"
   ]
  },
  {
   "cell_type": "code",
   "execution_count": 20,
   "id": "c5fc7b6a-3390-4506-842f-d0e2d7e25fb8",
   "metadata": {},
   "outputs": [
    {
     "name": "stdout",
     "output_type": "stream",
     "text": [
      "[[0 1 0 1 0 1 0 1]\n",
      " [1 0 1 0 1 0 1 0]\n",
      " [0 1 0 1 0 1 0 1]\n",
      " [1 0 1 0 1 0 1 0]\n",
      " [0 1 0 1 0 1 0 1]\n",
      " [1 0 1 0 1 0 1 0]\n",
      " [0 1 0 1 0 1 0 1]\n",
      " [1 0 1 0 1 0 1 0]]\n"
     ]
    }
   ],
   "source": [
    "m = np.zeros((8,8),dtype=int)\n",
    "m[1::2,::2]=1 \n",
    "m[::2,1::2]=1\n",
    "print(m)"
   ]
  },
  {
   "cell_type": "markdown",
   "id": "46a5a95b-93ca-4182-868c-fff95fe996ac",
   "metadata": {},
   "source": [
    "### 14 | Create a checkerboard 8x8 matrix using the tile function"
   ]
  },
  {
   "cell_type": "code",
   "execution_count": 21,
   "id": "69a4d001-6476-4694-b7cc-75d15ebd3f7e",
   "metadata": {},
   "outputs": [
    {
     "name": "stdout",
     "output_type": "stream",
     "text": [
      "[[0 1 0 1 0 1 0 1]\n",
      " [1 0 1 0 1 0 1 0]\n",
      " [0 1 0 1 0 1 0 1]\n",
      " [1 0 1 0 1 0 1 0]\n",
      " [0 1 0 1 0 1 0 1]\n",
      " [1 0 1 0 1 0 1 0]\n",
      " [0 1 0 1 0 1 0 1]\n",
      " [1 0 1 0 1 0 1 0]]\n"
     ]
    }
   ],
   "source": [
    "m = np.tile(np.array([[0,1],[1,0]]),(4,4))\n",
    "print(m)"
   ]
  },
  {
   "cell_type": "markdown",
   "id": "b4398b17-e725-4bad-9664-4924d689b53d",
   "metadata": {},
   "source": [
    "### 15 | Normalize a 5x5 random matrix"
   ]
  },
  {
   "cell_type": "code",
   "execution_count": 22,
   "id": "56923d87-749b-4e51-af21-09599e5c8ad2",
   "metadata": {},
   "outputs": [
    {
     "name": "stdout",
     "output_type": "stream",
     "text": [
      "[[0.55649359 0.34264647 0.20551965 0.37051634 0.24985915]\n",
      " [0.42111328 0.69472045 0.01577309 0.83704886 0.01049972]\n",
      " [0.35110179 0.18552607 0.6798241  0.28340217 0.99681107]\n",
      " [0.93218446 1.         0.12593105 0.05423142 0.        ]\n",
      " [0.50236251 0.67383662 0.70311292 0.85028791 0.18977517]]\n"
     ]
    }
   ],
   "source": [
    "m = np.random.random((5,5))\n",
    "minValue,maxValue = m.min(),m.max()\n",
    "normalize = (m-minValue)/(maxValue-minValue)\n",
    "print(normalize)"
   ]
  },
  {
   "cell_type": "markdown",
   "id": "f1b9c93c-a94c-4476-9e93-f45a9e33f795",
   "metadata": {},
   "source": [
    "### 16 | Create a custom dtype that describes a color as four unisgned bytes (RGBA)"
   ]
  },
  {
   "cell_type": "code",
   "execution_count": 23,
   "id": "af19d0fe-0bdd-426b-9536-5b64cde43b58",
   "metadata": {},
   "outputs": [],
   "source": [
    "color = np.dtype([(\"r\", np.ubyte, 1),\n",
    "(\"g\", np.ubyte, 1),\n",
    "(\"b\", np.ubyte, 1),\n",
    "(\"a\", np.ubyte, 1)])"
   ]
  },
  {
   "cell_type": "markdown",
   "id": "9863e04c-0d6d-4ea9-a10c-bd3040b81c5f",
   "metadata": {},
   "source": [
    "### 17 | Multiply a 5x3 matrix by a 3x2 matrix (real matrix product)"
   ]
  },
  {
   "cell_type": "code",
   "execution_count": 24,
   "id": "79a3a15f-2706-4143-8dae-c3343636c015",
   "metadata": {},
   "outputs": [
    {
     "name": "stdout",
     "output_type": "stream",
     "text": [
      "[[3 3]\n",
      " [3 3]\n",
      " [3 3]\n",
      " [3 3]\n",
      " [3 3]]\n"
     ]
    }
   ],
   "source": [
    "m = np.dot(np.ones((5,3),dtype=int),np.ones((3,2),dtype=int))\n",
    "print(m)"
   ]
  },
  {
   "cell_type": "code",
   "execution_count": 25,
   "id": "dae81c6e-7cac-46de-9a3f-9bf42e46899f",
   "metadata": {},
   "outputs": [
    {
     "data": {
      "text/plain": [
       "array([[1, 1, 1],\n",
       "       [1, 1, 1],\n",
       "       [1, 1, 1],\n",
       "       [1, 1, 1],\n",
       "       [1, 1, 1]])"
      ]
     },
     "execution_count": 25,
     "metadata": {},
     "output_type": "execute_result"
    }
   ],
   "source": [
    "np.ones((5,3),dtype=int)"
   ]
  },
  {
   "cell_type": "markdown",
   "id": "794dc764-b225-41ce-b81c-8fc6caeec931",
   "metadata": {},
   "source": [
    "### 18 | Given a 1D array, negate all elements which are between 3 and 8, in place"
   ]
  },
  {
   "cell_type": "code",
   "execution_count": 26,
   "id": "8606c3f3-a16d-46ec-a258-a1128a3966ac",
   "metadata": {},
   "outputs": [
    {
     "name": "stdout",
     "output_type": "stream",
     "text": [
      "[ 0  1  2  3 -4 -5 -6 -7 -8  9 10]\n"
     ]
    }
   ],
   "source": [
    "m = np.arange(11)\n",
    "m[(3<m)&(m<=8)] *= -1\n",
    "print(m)"
   ]
  },
  {
   "cell_type": "markdown",
   "id": "b866a67c-3750-4770-a031-3f090529c696",
   "metadata": {},
   "source": [
    "### 19 | Create a 5x5 matrix with row values ranging from 0 to 4"
   ]
  },
  {
   "cell_type": "code",
   "execution_count": 27,
   "id": "4bcda634-f994-4937-a928-8b1548951dc1",
   "metadata": {},
   "outputs": [
    {
     "name": "stdout",
     "output_type": "stream",
     "text": [
      "[[0 1 2 3 4]\n",
      " [0 1 2 3 4]\n",
      " [0 1 2 3 4]\n",
      " [0 1 2 3 4]\n",
      " [0 1 2 3 4]]\n"
     ]
    }
   ],
   "source": [
    "Z = np.zeros((5,5),dtype=int)\n",
    "Z += np.arange(5)\n",
    "print(Z)"
   ]
  },
  {
   "cell_type": "markdown",
   "id": "5ee1ec41-21e4-41db-84c4-bba794078a37",
   "metadata": {},
   "source": [
    "### 20 | Consider a generator function that generates 10 integers and use it to build an array"
   ]
  },
  {
   "cell_type": "code",
   "execution_count": 28,
   "id": "d922c543-118e-44d2-bf78-5ef10bb1cb6f",
   "metadata": {},
   "outputs": [
    {
     "name": "stdout",
     "output_type": "stream",
     "text": [
      "[0 1 2 3 4 5 6 7 8 9]\n"
     ]
    }
   ],
   "source": [
    "def generat ():\n",
    "    for x in range(10):\n",
    "        yield x\n",
    "v = np.fromiter(generat(),dtype=int,count=-1)\n",
    "print(v)"
   ]
  },
  {
   "cell_type": "markdown",
   "id": "de81d98e-04ae-4a66-8b3a-2cdfa75b6334",
   "metadata": {},
   "source": [
    "### 21 | Create a vector of size 10 with values ranging from 0 to 1, both excluded"
   ]
  },
  {
   "cell_type": "code",
   "execution_count": 33,
   "id": "87d23b7a-820b-49f2-b111-375d11ebc2fa",
   "metadata": {},
   "outputs": [
    {
     "name": "stdout",
     "output_type": "stream",
     "text": [
      "[0.1 0.2 0.3 0.4 0.5 0.6 0.7 0.8 0.9]\n"
     ]
    }
   ],
   "source": [
    "v = np.linspace(0,1,10 , endpoint=False)[1:]\n",
    "print(v)"
   ]
  },
  {
   "cell_type": "markdown",
   "id": "0323da62-40c6-42d1-a97b-5c539372c5e6",
   "metadata": {},
   "source": [
    "### 21 | Create a random vector of size 10 and sort it"
   ]
  },
  {
   "cell_type": "code",
   "execution_count": 39,
   "id": "cc1598ba-9e6f-4fe3-ad48-6c75f5c7144a",
   "metadata": {},
   "outputs": [
    {
     "name": "stdout",
     "output_type": "stream",
     "text": [
      "[0 1 2 3 4 5 6 7 8 9]\n"
     ]
    }
   ],
   "source": [
    "v = np.random.permutation(10)\n",
    "v = np.sort(v)\n",
    "print(v)"
   ]
  },
  {
   "cell_type": "code",
   "execution_count": 42,
   "id": "bea99e4a-370e-450d-aa77-2a14489e8966",
   "metadata": {},
   "outputs": [
    {
     "name": "stdout",
     "output_type": "stream",
     "text": [
      "[9 8 7 6 5 4 3 2 1 0]\n"
     ]
    }
   ],
   "source": [
    "v = np.random.permutation(10)\n",
    "v = np.sort(v)[::-1]\n",
    "print(v)"
   ]
  },
  {
   "cell_type": "markdown",
   "id": "e24f1f31-5249-4830-8dc2-21015d9a60e2",
   "metadata": {},
   "source": [
    "### 22 | Create a 30-element array of random integers in the range [1, 100]. Then, sum it using a method faster than np.sum() and print the result."
   ]
  },
  {
   "cell_type": "code",
   "execution_count": 44,
   "id": "d642cac1-09e9-4398-9b87-b827262f9ea0",
   "metadata": {},
   "outputs": [
    {
     "name": "stdout",
     "output_type": "stream",
     "text": [
      "1236\n"
     ]
    }
   ],
   "source": [
    "v = np.random.randint(0,100,size=30)\n",
    "v = np.add.reduce(v)\n",
    "print(v)"
   ]
  },
  {
   "cell_type": "markdown",
   "id": "c527a1a8-76a5-489d-903a-b50954166158",
   "metadata": {},
   "source": [
    "### 23 | Consider two random array A anb B, check if they are equal"
   ]
  },
  {
   "cell_type": "code",
   "execution_count": 45,
   "id": "a6cbe25c-24ab-4e26-bf87-22d9ba745c17",
   "metadata": {},
   "outputs": [
    {
     "name": "stdout",
     "output_type": "stream",
     "text": [
      "False\n"
     ]
    }
   ],
   "source": [
    "a = np.random.randint(0,20,size=30)\n",
    "b = np.random.randint(0,20,size=30)\n",
    "print(np.array_equal(a,b))"
   ]
  },
  {
   "cell_type": "markdown",
   "id": "d7ca41c4-3242-4c63-b001-9cbdbc1ac0e6",
   "metadata": {},
   "source": [
    "### 24 | Consider two random arrays, A and B, both with floating-point values. Check if they are equal"
   ]
  },
  {
   "cell_type": "code",
   "execution_count": 49,
   "id": "a1cad23b-8eda-4da8-a39d-22037b0da912",
   "metadata": {},
   "outputs": [
    {
     "name": "stdout",
     "output_type": "stream",
     "text": [
      "False\n"
     ]
    }
   ],
   "source": [
    "a = np.random.uniform(0,10,size=20)\n",
    "b = np.random.uniform(0,10,size=20)\n",
    "print(np.allclose(a,b))"
   ]
  },
  {
   "cell_type": "markdown",
   "id": "fd35199d-7f72-4fce-a641-0a6c022fe12d",
   "metadata": {},
   "source": [
    "### 25 | Make an array immutable (readonly)"
   ]
  },
  {
   "cell_type": "code",
   "execution_count": 54,
   "id": "e28c5e24-5f5e-4afd-b002-ff3fb1ffe233",
   "metadata": {},
   "outputs": [],
   "source": [
    "v = np.arange(0,20)\n",
    "v.flags.writeable = False\n",
    "# v[0]=1"
   ]
  },
  {
   "cell_type": "markdown",
   "id": "be3d236a-1000-407f-9559-1622b673737c",
   "metadata": {},
   "source": [
    "### 26 | Create random vector of size 10 and replace the maximum value by 0"
   ]
  },
  {
   "cell_type": "code",
   "execution_count": 67,
   "id": "b797178d-60af-4853-9b82-755f4ff92a16",
   "metadata": {},
   "outputs": [
    {
     "name": "stdout",
     "output_type": "stream",
     "text": [
      "[32  8 25 24 35 35  5  0 26 30]\n"
     ]
    }
   ],
   "source": [
    "v = np.random.randint(0,50,size=10)\n",
    "v[v.argmax()] = 0\n",
    "print(v)"
   ]
  },
  {
   "cell_type": "markdown",
   "id": "fb51497f-cb8c-408f-9b17-846cdd1bc8c7",
   "metadata": {},
   "source": [
    "### 27 | How to find the closest value (to a given scalar) in an array?"
   ]
  },
  {
   "cell_type": "code",
   "execution_count": 74,
   "id": "5dc9b7aa-68a5-4cdc-ba6f-a3f57e8dde7d",
   "metadata": {},
   "outputs": [
    {
     "name": "stdout",
     "output_type": "stream",
     "text": [
      "7\n"
     ]
    }
   ],
   "source": [
    "v = np.array([1, 4, 7, 9, 13, 20])\n",
    "c = 6\n",
    "z = v[np.abs(v-c).argmin()]\n",
    "print(z)"
   ]
  },
  {
   "cell_type": "markdown",
   "id": "b21387db-cf4d-4455-b9ab-a4c58868d6d1",
   "metadata": {},
   "source": [
    "### 28 | How to convert a float (32 bits) array into an integer (32 bits) in place?"
   ]
  },
  {
   "cell_type": "code",
   "execution_count": 75,
   "id": "00a14c12-95bb-450f-af95-0ee2fbc1266d",
   "metadata": {},
   "outputs": [],
   "source": [
    "v = np.arange(10, dtype=np.int32)\n",
    "v = v.astype(np.float32, copy=False)"
   ]
  },
  {
   "cell_type": "markdown",
   "id": "e08b270d-fc0c-49f0-9d87-32053f20fecb",
   "metadata": {},
   "source": [
    "### 29 | Create a 5x5 2D array of random numbers between 0 and 1. Then, calculate the mean of each row and store it in a new array."
   ]
  },
  {
   "cell_type": "code",
   "execution_count": 77,
   "id": "bad56460-070d-4adb-8cba-d064b58a0e85",
   "metadata": {},
   "outputs": [
    {
     "name": "stdout",
     "output_type": "stream",
     "text": [
      "[0.61385415 0.4149201  0.4788975  0.61006708 0.56063095]\n"
     ]
    }
   ],
   "source": [
    "v = np.random.rand(5, 5)\n",
    "row_means = np.mean(v, axis=1)\n",
    "print(row_means)"
   ]
  },
  {
   "cell_type": "markdown",
   "id": "5d581025-7931-429f-a4ea-46692ef5752c",
   "metadata": {},
   "source": [
    "### 30 | Create a 1D array of random integers with size 15. Then, change all values greater than 5 to zero."
   ]
  },
  {
   "cell_type": "code",
   "execution_count": 80,
   "id": "15436131-defe-477c-867d-23cac6e96616",
   "metadata": {},
   "outputs": [
    {
     "name": "stdout",
     "output_type": "stream",
     "text": [
      "[0 0 3 0 0 0 4 4 3 0 2 0 0 0 4]\n"
     ]
    }
   ],
   "source": [
    "v = np.random.randint(0,20,size=15)\n",
    "v[v > 5] = 0\n",
    "print(v)\n"
   ]
  },
  {
   "cell_type": "code",
   "execution_count": null,
   "id": "d921889e-ef89-4d77-99ae-cf8a12b9f5a2",
   "metadata": {},
   "outputs": [],
   "source": []
  }
 ],
 "metadata": {
  "kernelspec": {
   "display_name": "Python 3 (ipykernel)",
   "language": "python",
   "name": "python3"
  },
  "language_info": {
   "codemirror_mode": {
    "name": "ipython",
    "version": 3
   },
   "file_extension": ".py",
   "mimetype": "text/x-python",
   "name": "python",
   "nbconvert_exporter": "python",
   "pygments_lexer": "ipython3",
   "version": "3.12.6"
  }
 },
 "nbformat": 4,
 "nbformat_minor": 5
}
